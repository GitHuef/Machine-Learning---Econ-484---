{
  "nbformat": 4,
  "nbformat_minor": 0,
  "metadata": {
    "colab": {
      "name": "Problem Set",
      "provenance": [],
      "collapsed_sections": []
    },
    "kernelspec": {
      "display_name": "Python 3",
      "language": "python",
      "name": "python3"
    },
    "language_info": {
      "codemirror_mode": {
        "name": "ipython",
        "version": 3
      },
      "file_extension": ".py",
      "mimetype": "text/x-python",
      "name": "python",
      "nbconvert_exporter": "python",
      "pygments_lexer": "ipython3",
      "version": "3.7.4"
    }
  },
  "cells": [
    {
      "cell_type": "code",
      "metadata": {
        "id": "MnbLeRoy0DyY"
      },
      "source": [
        "# import the modules and function you will use here\n",
        "import pandas as pd\n",
        "import numpy as np\n"
      ],
      "execution_count": null,
      "outputs": []
    },
    {
      "cell_type": "markdown",
      "metadata": {
        "id": "BVr_kb-z0Dyj"
      },
      "source": [
        "This problem deals with regularized regression. The boston dataset is described right after it is loaded in just by running the code that is aleardy there."
      ]
    },
    {
      "cell_type": "code",
      "metadata": {
        "id": "EUVRAGdg0Dyk",
        "colab": {
          "base_uri": "https://localhost:8080/"
        },
        "outputId": "a3ae0297-1a33-400f-be1c-5079d47cbf7d"
      },
      "source": [
        "from sklearn.datasets import load_boston\n",
        "boston = load_boston()\n",
        "print(boston['DESCR'])\n",
        "x = pd.DataFrame(boston['data'], columns=boston['feature_names'])\n",
        "y = pd.Series(boston['target'])\n"
      ],
      "execution_count": null,
      "outputs": [
        {
          "output_type": "stream",
          "text": [
            ".. _boston_dataset:\n",
            "\n",
            "Boston house prices dataset\n",
            "---------------------------\n",
            "\n",
            "**Data Set Characteristics:**  \n",
            "\n",
            "    :Number of Instances: 506 \n",
            "\n",
            "    :Number of Attributes: 13 numeric/categorical predictive. Median Value (attribute 14) is usually the target.\n",
            "\n",
            "    :Attribute Information (in order):\n",
            "        - CRIM     per capita crime rate by town\n",
            "        - ZN       proportion of residential land zoned for lots over 25,000 sq.ft.\n",
            "        - INDUS    proportion of non-retail business acres per town\n",
            "        - CHAS     Charles River dummy variable (= 1 if tract bounds river; 0 otherwise)\n",
            "        - NOX      nitric oxides concentration (parts per 10 million)\n",
            "        - RM       average number of rooms per dwelling\n",
            "        - AGE      proportion of owner-occupied units built prior to 1940\n",
            "        - DIS      weighted distances to five Boston employment centres\n",
            "        - RAD      index of accessibility to radial highways\n",
            "        - TAX      full-value property-tax rate per $10,000\n",
            "        - PTRATIO  pupil-teacher ratio by town\n",
            "        - B        1000(Bk - 0.63)^2 where Bk is the proportion of blacks by town\n",
            "        - LSTAT    % lower status of the population\n",
            "        - MEDV     Median value of owner-occupied homes in $1000's\n",
            "\n",
            "    :Missing Attribute Values: None\n",
            "\n",
            "    :Creator: Harrison, D. and Rubinfeld, D.L.\n",
            "\n",
            "This is a copy of UCI ML housing dataset.\n",
            "https://archive.ics.uci.edu/ml/machine-learning-databases/housing/\n",
            "\n",
            "\n",
            "This dataset was taken from the StatLib library which is maintained at Carnegie Mellon University.\n",
            "\n",
            "The Boston house-price data of Harrison, D. and Rubinfeld, D.L. 'Hedonic\n",
            "prices and the demand for clean air', J. Environ. Economics & Management,\n",
            "vol.5, 81-102, 1978.   Used in Belsley, Kuh & Welsch, 'Regression diagnostics\n",
            "...', Wiley, 1980.   N.B. Various transformations are used in the table on\n",
            "pages 244-261 of the latter.\n",
            "\n",
            "The Boston house-price data has been used in many machine learning papers that address regression\n",
            "problems.   \n",
            "     \n",
            ".. topic:: References\n",
            "\n",
            "   - Belsley, Kuh & Welsch, 'Regression diagnostics: Identifying Influential Data and Sources of Collinearity', Wiley, 1980. 244-261.\n",
            "   - Quinlan,R. (1993). Combining Instance-Based and Model-Based Learning. In Proceedings on the Tenth International Conference of Machine Learning, 236-243, University of Massachusetts, Amherst. Morgan Kaufmann.\n",
            "\n"
          ],
          "name": "stdout"
        }
      ]
    },
    {
      "cell_type": "markdown",
      "metadata": {
        "id": "4jaP5zOS0Dyl"
      },
      "source": [
        "$(a)$ Split the data into a train and a test set"
      ]
    },
    {
      "cell_type": "code",
      "metadata": {
        "id": "8at3rW7c0Dyl",
        "colab": {
          "base_uri": "https://localhost:8080/"
        },
        "outputId": "9ecbb843-abf3-4842-e15d-3f4f50162e9d"
      },
      "source": [
        "from sklearn.model_selection import train_test_split \n",
        "\n",
        "X_train, X_test, y_train, y_test = train_test_split(x,y,random_state=42)\n",
        "print(X_train, y_train)"
      ],
      "execution_count": null,
      "outputs": [
        {
          "output_type": "stream",
          "text": [
            "         CRIM    ZN  INDUS  CHAS     NOX  ...   RAD    TAX  PTRATIO       B  LSTAT\n",
            "182   0.09103   0.0   2.46   0.0  0.4880  ...   3.0  193.0     17.8  394.12   4.82\n",
            "155   3.53501   0.0  19.58   1.0  0.8710  ...   5.0  403.0     14.7   88.01  15.02\n",
            "280   0.03578  20.0   3.33   0.0  0.4429  ...   5.0  216.0     14.9  387.31   3.76\n",
            "126   0.38735   0.0  25.65   0.0  0.5810  ...   2.0  188.0     19.1  359.29  27.26\n",
            "329   0.06724   0.0   3.24   0.0  0.4600  ...   4.0  430.0     16.9  375.21   7.34\n",
            "..        ...   ...    ...   ...     ...  ...   ...    ...      ...     ...    ...\n",
            "106   0.17120   0.0   8.56   0.0  0.5200  ...   5.0  384.0     20.9  395.67  18.66\n",
            "270   0.29916  20.0   6.96   0.0  0.4640  ...   3.0  223.0     18.6  388.65  13.00\n",
            "348   0.01501  80.0   2.01   0.0  0.4350  ...   4.0  280.0     17.0  390.94   5.99\n",
            "435  11.16040   0.0  18.10   0.0  0.7400  ...  24.0  666.0     20.2  109.85  23.27\n",
            "102   0.22876   0.0   8.56   0.0  0.5200  ...   5.0  384.0     20.9   70.80  10.63\n",
            "\n",
            "[379 rows x 13 columns] 182    37.9\n",
            "155    15.6\n",
            "280    45.4\n",
            "126    15.7\n",
            "329    22.6\n",
            "       ... \n",
            "106    19.5\n",
            "270    21.1\n",
            "348    24.5\n",
            "435    13.4\n",
            "102    18.6\n",
            "Length: 379, dtype: float64\n"
          ],
          "name": "stdout"
        }
      ]
    },
    {
      "cell_type": "markdown",
      "metadata": {
        "id": "nWvnQG8N0Dym"
      },
      "source": [
        "$(b)$ Use this data to fit an OLS, LASSO, ridge, and ElasticNet model on the data. For now, use the default for the penalty coefficient. Display the coefficients and test error for each."
      ]
    },
    {
      "cell_type": "code",
      "metadata": {
        "id": "A08htXCM0Dyn",
        "colab": {
          "base_uri": "https://localhost:8080/"
        },
        "outputId": "49ab2a32-a767-4573-9953-6ddf1506199f"
      },
      "source": [
        "\n",
        "\n",
        "from sklearn.linear_model import LinearRegression as ols\n",
        "reg = ols().fit(X_train,y_train)\n",
        "# print(\"The training set accuracy is: \" + str(reg.score(X_train,y_train)))\n",
        "print(\"The test set error rate is: \" + str(1 - reg.score(X_test,y_test)))\n",
        "\n",
        " \n",
        "print(\"The coefficient values observed are: \" + str(reg.coef_))"
      ],
      "execution_count": null,
      "outputs": [
        {
          "output_type": "stream",
          "text": [
            "The test set error rate is: 0.3155732716472932\n",
            "The coefficient values observed are: [-1.28322638e-01  2.95517751e-02  4.88590934e-02  2.77350326e+00\n",
            " -1.62388292e+01  4.36875476e+00 -9.24808158e-03 -1.40086668e+00\n",
            "  2.57761243e-01 -9.95694820e-03 -9.23122944e-01  1.31854199e-02\n",
            " -5.17639519e-01]\n"
          ],
          "name": "stdout"
        }
      ]
    },
    {
      "cell_type": "code",
      "metadata": {
        "id": "O4oN-Ajv2Q6u",
        "colab": {
          "base_uri": "https://localhost:8080/"
        },
        "outputId": "9931f482-5190-40c1-990c-060596502ffc"
      },
      "source": [
        "# Elastic Net model\n",
        "\n",
        " \n",
        "from sklearn.linear_model import ElasticNet\n",
        " \n",
        " \n",
        "regr = ElasticNet().fit(X_train,y_train)\n",
        " \n",
        "# print(\"Training set score: {:.3f}\".format(regr.score(X_train,y_train)))\n",
        "# print(\"Test set score: {:.3f}\".format(regr.score(X_test,y_test)))\n",
        "print(\"The Test error rate is:\" + str(1-regr.score(X_test,y_test)))\n",
        " \n",
        "\n",
        " \n",
        "print(\"The coefficient values observed are: \" + str(regr.coef_))\n",
        "\n",
        "\n"
      ],
      "execution_count": null,
      "outputs": [
        {
          "output_type": "stream",
          "text": [
            "The Test error rate is:0.34405862101440254\n",
            "The coefficient values observed are: [-0.10270885  0.03414157 -0.00689058  0.         -0.          1.14428334\n",
            "  0.01442808 -0.70930241  0.26472536 -0.01347162 -0.74428292  0.01200929\n",
            " -0.78282769]\n"
          ],
          "name": "stdout"
        }
      ]
    },
    {
      "cell_type": "code",
      "metadata": {
        "id": "F3hVkIpXy06j",
        "colab": {
          "base_uri": "https://localhost:8080/"
        },
        "outputId": "80dba455-fe75-49fa-bc15-f8a038b11cf1"
      },
      "source": [
        "from sklearn.linear_model import Lasso \n",
        " \n",
        "#Fit our model using Lasso\n",
        " \n",
        " \n",
        "lazzo = Lasso().fit(X_train,y_train)\n",
        " \n",
        "#Print the training and test error rates.\n",
        " \n",
        "# print(lazzo.score(X_train,y_train))\n",
        "# print(lazzo.score(X_test,y_test))\n",
        "print(\"The Test error rate is:\" + str(1-lazzo.score(X_test,y_test)))\n",
        " \n",
        "#Print the Lasso coefficients.\n",
        " \n",
        "print(\"The coefficient values observed are: \" + str(lazzo.coef_))\n"
      ],
      "execution_count": null,
      "outputs": [
        {
          "output_type": "stream",
          "text": [
            "The Test error rate is:0.34830426199829567\n",
            "The coefficient values observed are: [-0.0838981   0.02646051 -0.          0.         -0.          1.54544951\n",
            "  0.01345772 -0.58282853  0.20738089 -0.01121302 -0.70500625  0.01198848\n",
            " -0.75783702]\n"
          ],
          "name": "stdout"
        }
      ]
    },
    {
      "cell_type": "code",
      "metadata": {
        "id": "aYohOnLM0LKX",
        "colab": {
          "base_uri": "https://localhost:8080/"
        },
        "outputId": "7e0ef341-fd30-4ed5-a4f9-5ffb8cf4ce4b"
      },
      "source": [
        "# The Ridge regression method\n",
        "\n",
        "from sklearn.linear_model import Ridge\n",
        "\n",
        "ridge = Ridge().fit(X_train, y_train)\n",
        "\n",
        "\n",
        "\n",
        "print(\"Training set score: {:.2f}\".format(ridge.score(X_train, y_train)))\n",
        "print(\"Test set score: {:.2f}\".format(ridge.score(X_test, y_test)))\n",
        "\n",
        "print(\"The Test error rate is:\" + str(1-ridge.score(X_test,y_test)))\n",
        "\n",
        " \n",
        "print(\"The coefficient values observed are: \" + str(ridge.coef_))\n"
      ],
      "execution_count": null,
      "outputs": [
        {
          "output_type": "stream",
          "text": [
            "Training set score: 0.75\n",
            "Test set score: 0.68\n",
            "The Test error rate is:0.3210251672153923\n",
            "The coefficient values observed are: [-0.12383039  0.03139178  0.01767668  2.54277179 -8.77249222  4.37980204\n",
            " -0.01537349 -1.29086084  0.24406848 -0.01082435 -0.83346553  0.01348642\n",
            " -0.53435396]\n"
          ],
          "name": "stdout"
        }
      ]
    },
    {
      "cell_type": "markdown",
      "metadata": {
        "id": "aXfyQEZ-0Dyn"
      },
      "source": [
        "$(c)$ Describe the differences that you see in the coefficients and error. What is the cause of this difference in coefficients?"
      ]
    },
    {
      "cell_type": "markdown",
      "metadata": {
        "id": "G9HBeTPLEBq4"
      },
      "source": [
        "If we look at all of the test set scores we can see that OLS is doing the best (ridge does share a lot of characteristics as OLS). one reason for example we see a potential differenc ein the coefficents is that Lasso is throwing out some of the coefficients as it takes them to zero. Elastic net also takes some of the coefficients to zero. OLS has the lowest test error rate. \n"
      ]
    },
    {
      "cell_type": "markdown",
      "metadata": {
        "id": "35GH7YMt0Dyp"
      },
      "source": [
        "$(d)$ Use K-fold cross validation to find an optimal penalty parameter for Ridge and Lasso."
      ]
    },
    {
      "cell_type": "code",
      "metadata": {
        "id": "s9wMekYZ0Dyp",
        "colab": {
          "base_uri": "https://localhost:8080/"
        },
        "outputId": "c13b51f4-e4c5-4df5-f6d9-5b1f26fe3f4a"
      },
      "source": [
        "# Code used from Lecture. \n",
        "from sklearn.linear_model import LassoCV\n",
        "lassocv= LassoCV(cv=5).fit(X_train, np.ravel(y_train))\n",
        "lassocvalpha =Lasso(alpha = lassocv.alpha_,max_iter=100000).fit(X_train,y_train)\n",
        "print('Lasso score on training set: {:.3f}'.format(lassocvalpha.score(X_train,y_train)))\n",
        "print('Lasso score on test set: {:.3f}'.format(lassocvalpha.score(X_test,y_test)))\n",
        "\n",
        "from sklearn.linear_model import RidgeCV\n",
        "ridgecv= RidgeCV(cv=5).fit(X_train, np.ravel(y_train))\n",
        "ridgecvalpha =Lasso(alpha = ridgecv.alpha_,max_iter=100000).fit(X_train,y_train)\n",
        "print('Ridge score on training set: {:.3f}'.format(ridgecvalpha.score(X_train,y_train)))\n",
        "print('Ridge score on test set: {:.3f}'.format(ridgecvalpha.score(X_test,y_test)))"
      ],
      "execution_count": null,
      "outputs": [
        {
          "output_type": "stream",
          "text": [
            "Lasso score on training set: 0.715\n",
            "Lasso score on test set: 0.664\n",
            "Ridge score on training set: 0.737\n",
            "Ridge score on test set: 0.666\n"
          ],
          "name": "stdout"
        }
      ]
    },
    {
      "cell_type": "markdown",
      "metadata": {
        "id": "dxGvsemD0Dyq"
      },
      "source": [
        "$(e)$ Now use cross validation, to find the optimal penalty parameter. Use LOOCV and Kfold cross validation with K=5 to find optimal parameters for the ElasticNet model. How do the test errors and optimal parameters differ?"
      ]
    },
    {
      "cell_type": "code",
      "metadata": {
        "id": "T_nHPWPv0Dyr",
        "colab": {
          "base_uri": "https://localhost:8080/"
        },
        "outputId": "2f16fa38-5d78-4eab-ffa6-d01ad3924003"
      },
      "source": [
        "from sklearn.model_selection import LeaveOneOut\n",
        "import numpy as np\n",
        "from sklearn import metrics\n",
        "from sklearn.neural_network import MLPClassifier\n",
        "from sklearn.linear_model import ElasticNetCV\n",
        "from sklearn.model_selection import GridSearchCV\n",
        "\n",
        "# WITH LOOCV\n",
        "my_cv = LeaveOneOut()\n",
        "\n",
        "\n",
        "elasticNetCV= ElasticNetCV(cv=LeaveOneOut()).fit(X_train,np.ravel(y_train))\n",
        "\n",
        "\n",
        "print(\"This is the best alpha\" + str(elasticNetCV.alpha_))\n",
        "print(\"The Test error rate is:\" + str(1-elasticNetCV.score(X_test,y_test)))\n",
        " \n",
        " # K-folds = 5 method\n",
        "\n",
        "elasticNetCV= ElasticNetCV(cv=5).fit(X_train,np.ravel(y_train))\n",
        "\n",
        "\n",
        "print(\"This is the best alpha: \" + str(elasticNetCV.alpha_))\n",
        "print(\"The Test error rate with 5 k folds is:\" + str(1-elasticNetCV.score(X_test,y_test)))\n",
        "\n",
        "# The test errors are worse with LOOCV and k fold cross validation. \n",
        "\n",
        "\n",
        "\n",
        "\n",
        "\n"
      ],
      "execution_count": null,
      "outputs": [
        {
          "output_type": "stream",
          "text": [
            "This is the best alpha1.4140228709073313\n",
            "The Test error rate is:0.3568667505313856\n",
            "This is the best alpha: 1.4140228709073313\n",
            "The Test error rate with 5 k folds is:0.3568667505313856\n"
          ],
          "name": "stdout"
        }
      ]
    },
    {
      "cell_type": "markdown",
      "metadata": {
        "id": "CPew4lrQ0Dyr"
      },
      "source": [
        "$(f)$ Now that we have tuned the models to perform about as well as they can, which one performs best on the training data? Which one performs best on the test data? Which of these models allow us to do effective causal inference with the coefficients? Why?"
      ]
    },
    {
      "cell_type": "code",
      "metadata": {
        "id": "QGIuWwOW0Dys",
        "colab": {
          "base_uri": "https://localhost:8080/"
        },
        "outputId": "60bf9db2-66cf-4400-8a8a-2117ec7e6fcd"
      },
      "source": [
        "print(\"The ols training error rate is:\" + str(1-reg.score(X_train,y_train)))\n",
        "print(\"The ols test set error rate is: \" + str(1 - reg.score(X_test,y_test)))\n",
        "print(\"The elastic training error rate is:\" + str(1-regr.score(X_train,y_train)))\n",
        "print(\"The  elastic Test error rate is:\" + str(1-regr.score(X_test,y_test)))\n",
        "print(\"The lasso trainingerror rate is:\" + str(1-lazzo.score(X_train,y_train)))\n",
        "print(\"The lasso Test error rate is:\" + str(1-lazzo.score(X_test,y_test)))\n",
        "print(\"The ridge training error rate is:\" + str(1-ridge.score(X_train,y_train)))\n",
        "print(\"The ridge test error rate is:\" + str(1-ridge.score(X_test,y_test)))\n",
        "\n",
        "\n",
        "# OLS performs best on the training but is pretty close to the ridge regression. as it is the smallest. OLS is the best to do causal inference with the coefficients since OLS produces unbiased estimates. "
      ],
      "execution_count": null,
      "outputs": [
        {
          "output_type": "stream",
          "text": [
            "The ols training error rate is:0.25191274013765597\n",
            "The ols test set error rate is: 0.3155732716472932\n",
            "The elastic training error rate is:0.3089119688630845\n",
            "The  elastic Test error rate is:0.34405862101440254\n",
            "The lasso trainingerror rate is:0.3051959256443715\n",
            "The lasso Test error rate is:0.34830426199829567\n",
            "The ridge training error rate is:0.25388382121158437\n",
            "The ridge test error rate is:0.3210251672153923\n"
          ],
          "name": "stdout"
        }
      ]
    },
    {
      "cell_type": "markdown",
      "metadata": {
        "id": "aXm5yryZ0Dyt"
      },
      "source": [
        "For the next problem we will be using the `Carseats` data set that is available on learningsuite. Load the data and convert the text variables into dummies so that we can use them in the data. Pandas has a function called `get_dummies` that you might want to use."
      ]
    },
    {
      "cell_type": "code",
      "metadata": {
        "id": "vMI1sJqh0Dyt",
        "colab": {
          "base_uri": "https://localhost:8080/"
        },
        "outputId": "f0b9e4b2-39a5-499b-ec92-97bd2cc1fe06"
      },
      "source": [
        "from google.colab import drive\n",
        "drive.mount('/content/drive')"
      ],
      "execution_count": null,
      "outputs": [
        {
          "output_type": "stream",
          "text": [
            "Mounted at /content/drive\n"
          ],
          "name": "stdout"
        }
      ]
    },
    {
      "cell_type": "code",
      "metadata": {
        "id": "nJwlX599FXYp",
        "colab": {
          "base_uri": "https://localhost:8080/",
          "height": 204
        },
        "outputId": "c3319041-a89a-48f3-ce73-ca326e18cdce"
      },
      "source": [
        "carseats = pd.read_csv('/content/drive/MyDrive/Econ 484/Carseats.csv')\n",
        "carseats.head()"
      ],
      "execution_count": null,
      "outputs": [
        {
          "output_type": "execute_result",
          "data": {
            "text/html": [
              "<div>\n",
              "<style scoped>\n",
              "    .dataframe tbody tr th:only-of-type {\n",
              "        vertical-align: middle;\n",
              "    }\n",
              "\n",
              "    .dataframe tbody tr th {\n",
              "        vertical-align: top;\n",
              "    }\n",
              "\n",
              "    .dataframe thead th {\n",
              "        text-align: right;\n",
              "    }\n",
              "</style>\n",
              "<table border=\"1\" class=\"dataframe\">\n",
              "  <thead>\n",
              "    <tr style=\"text-align: right;\">\n",
              "      <th></th>\n",
              "      <th>Unnamed: 0</th>\n",
              "      <th>Sales</th>\n",
              "      <th>CompPrice</th>\n",
              "      <th>Income</th>\n",
              "      <th>Advertising</th>\n",
              "      <th>Population</th>\n",
              "      <th>Price</th>\n",
              "      <th>ShelveLoc</th>\n",
              "      <th>Age</th>\n",
              "      <th>Education</th>\n",
              "      <th>Urban</th>\n",
              "      <th>US</th>\n",
              "    </tr>\n",
              "  </thead>\n",
              "  <tbody>\n",
              "    <tr>\n",
              "      <th>0</th>\n",
              "      <td>1</td>\n",
              "      <td>9.50</td>\n",
              "      <td>138</td>\n",
              "      <td>73</td>\n",
              "      <td>11</td>\n",
              "      <td>276</td>\n",
              "      <td>120</td>\n",
              "      <td>Bad</td>\n",
              "      <td>42</td>\n",
              "      <td>17</td>\n",
              "      <td>Yes</td>\n",
              "      <td>Yes</td>\n",
              "    </tr>\n",
              "    <tr>\n",
              "      <th>1</th>\n",
              "      <td>2</td>\n",
              "      <td>11.22</td>\n",
              "      <td>111</td>\n",
              "      <td>48</td>\n",
              "      <td>16</td>\n",
              "      <td>260</td>\n",
              "      <td>83</td>\n",
              "      <td>Good</td>\n",
              "      <td>65</td>\n",
              "      <td>10</td>\n",
              "      <td>Yes</td>\n",
              "      <td>Yes</td>\n",
              "    </tr>\n",
              "    <tr>\n",
              "      <th>2</th>\n",
              "      <td>3</td>\n",
              "      <td>10.06</td>\n",
              "      <td>113</td>\n",
              "      <td>35</td>\n",
              "      <td>10</td>\n",
              "      <td>269</td>\n",
              "      <td>80</td>\n",
              "      <td>Medium</td>\n",
              "      <td>59</td>\n",
              "      <td>12</td>\n",
              "      <td>Yes</td>\n",
              "      <td>Yes</td>\n",
              "    </tr>\n",
              "    <tr>\n",
              "      <th>3</th>\n",
              "      <td>4</td>\n",
              "      <td>7.40</td>\n",
              "      <td>117</td>\n",
              "      <td>100</td>\n",
              "      <td>4</td>\n",
              "      <td>466</td>\n",
              "      <td>97</td>\n",
              "      <td>Medium</td>\n",
              "      <td>55</td>\n",
              "      <td>14</td>\n",
              "      <td>Yes</td>\n",
              "      <td>Yes</td>\n",
              "    </tr>\n",
              "    <tr>\n",
              "      <th>4</th>\n",
              "      <td>5</td>\n",
              "      <td>4.15</td>\n",
              "      <td>141</td>\n",
              "      <td>64</td>\n",
              "      <td>3</td>\n",
              "      <td>340</td>\n",
              "      <td>128</td>\n",
              "      <td>Bad</td>\n",
              "      <td>38</td>\n",
              "      <td>13</td>\n",
              "      <td>Yes</td>\n",
              "      <td>No</td>\n",
              "    </tr>\n",
              "  </tbody>\n",
              "</table>\n",
              "</div>"
            ],
            "text/plain": [
              "   Unnamed: 0  Sales  CompPrice  Income  ...  Age  Education  Urban   US\n",
              "0           1   9.50        138      73  ...   42         17    Yes  Yes\n",
              "1           2  11.22        111      48  ...   65         10    Yes  Yes\n",
              "2           3  10.06        113      35  ...   59         12    Yes  Yes\n",
              "3           4   7.40        117     100  ...   55         14    Yes  Yes\n",
              "4           5   4.15        141      64  ...   38         13    Yes   No\n",
              "\n",
              "[5 rows x 12 columns]"
            ]
          },
          "metadata": {
            "tags": []
          },
          "execution_count": 16
        }
      ]
    },
    {
      "cell_type": "code",
      "metadata": {
        "id": "_uZ16b_EI2bZ",
        "colab": {
          "base_uri": "https://localhost:8080/",
          "height": 246
        },
        "outputId": "2cf81978-7cf9-4e89-fd03-0d23583d71f3"
      },
      "source": [
        "dumbcar= pd.get_dummies(carseats, columns=['Urban', 'US', 'ShelveLoc'])\n",
        "dumbcar.head()"
      ],
      "execution_count": null,
      "outputs": [
        {
          "output_type": "execute_result",
          "data": {
            "text/html": [
              "<div>\n",
              "<style scoped>\n",
              "    .dataframe tbody tr th:only-of-type {\n",
              "        vertical-align: middle;\n",
              "    }\n",
              "\n",
              "    .dataframe tbody tr th {\n",
              "        vertical-align: top;\n",
              "    }\n",
              "\n",
              "    .dataframe thead th {\n",
              "        text-align: right;\n",
              "    }\n",
              "</style>\n",
              "<table border=\"1\" class=\"dataframe\">\n",
              "  <thead>\n",
              "    <tr style=\"text-align: right;\">\n",
              "      <th></th>\n",
              "      <th>Unnamed: 0</th>\n",
              "      <th>Sales</th>\n",
              "      <th>CompPrice</th>\n",
              "      <th>Income</th>\n",
              "      <th>Advertising</th>\n",
              "      <th>Population</th>\n",
              "      <th>Price</th>\n",
              "      <th>Age</th>\n",
              "      <th>Education</th>\n",
              "      <th>Urban_No</th>\n",
              "      <th>Urban_Yes</th>\n",
              "      <th>US_No</th>\n",
              "      <th>US_Yes</th>\n",
              "      <th>ShelveLoc_Bad</th>\n",
              "      <th>ShelveLoc_Good</th>\n",
              "      <th>ShelveLoc_Medium</th>\n",
              "    </tr>\n",
              "  </thead>\n",
              "  <tbody>\n",
              "    <tr>\n",
              "      <th>0</th>\n",
              "      <td>1</td>\n",
              "      <td>9.50</td>\n",
              "      <td>138</td>\n",
              "      <td>73</td>\n",
              "      <td>11</td>\n",
              "      <td>276</td>\n",
              "      <td>120</td>\n",
              "      <td>42</td>\n",
              "      <td>17</td>\n",
              "      <td>0</td>\n",
              "      <td>1</td>\n",
              "      <td>0</td>\n",
              "      <td>1</td>\n",
              "      <td>1</td>\n",
              "      <td>0</td>\n",
              "      <td>0</td>\n",
              "    </tr>\n",
              "    <tr>\n",
              "      <th>1</th>\n",
              "      <td>2</td>\n",
              "      <td>11.22</td>\n",
              "      <td>111</td>\n",
              "      <td>48</td>\n",
              "      <td>16</td>\n",
              "      <td>260</td>\n",
              "      <td>83</td>\n",
              "      <td>65</td>\n",
              "      <td>10</td>\n",
              "      <td>0</td>\n",
              "      <td>1</td>\n",
              "      <td>0</td>\n",
              "      <td>1</td>\n",
              "      <td>0</td>\n",
              "      <td>1</td>\n",
              "      <td>0</td>\n",
              "    </tr>\n",
              "    <tr>\n",
              "      <th>2</th>\n",
              "      <td>3</td>\n",
              "      <td>10.06</td>\n",
              "      <td>113</td>\n",
              "      <td>35</td>\n",
              "      <td>10</td>\n",
              "      <td>269</td>\n",
              "      <td>80</td>\n",
              "      <td>59</td>\n",
              "      <td>12</td>\n",
              "      <td>0</td>\n",
              "      <td>1</td>\n",
              "      <td>0</td>\n",
              "      <td>1</td>\n",
              "      <td>0</td>\n",
              "      <td>0</td>\n",
              "      <td>1</td>\n",
              "    </tr>\n",
              "    <tr>\n",
              "      <th>3</th>\n",
              "      <td>4</td>\n",
              "      <td>7.40</td>\n",
              "      <td>117</td>\n",
              "      <td>100</td>\n",
              "      <td>4</td>\n",
              "      <td>466</td>\n",
              "      <td>97</td>\n",
              "      <td>55</td>\n",
              "      <td>14</td>\n",
              "      <td>0</td>\n",
              "      <td>1</td>\n",
              "      <td>0</td>\n",
              "      <td>1</td>\n",
              "      <td>0</td>\n",
              "      <td>0</td>\n",
              "      <td>1</td>\n",
              "    </tr>\n",
              "    <tr>\n",
              "      <th>4</th>\n",
              "      <td>5</td>\n",
              "      <td>4.15</td>\n",
              "      <td>141</td>\n",
              "      <td>64</td>\n",
              "      <td>3</td>\n",
              "      <td>340</td>\n",
              "      <td>128</td>\n",
              "      <td>38</td>\n",
              "      <td>13</td>\n",
              "      <td>0</td>\n",
              "      <td>1</td>\n",
              "      <td>1</td>\n",
              "      <td>0</td>\n",
              "      <td>1</td>\n",
              "      <td>0</td>\n",
              "      <td>0</td>\n",
              "    </tr>\n",
              "  </tbody>\n",
              "</table>\n",
              "</div>"
            ],
            "text/plain": [
              "   Unnamed: 0  Sales  ...  ShelveLoc_Good  ShelveLoc_Medium\n",
              "0           1   9.50  ...               0                 0\n",
              "1           2  11.22  ...               1                 0\n",
              "2           3  10.06  ...               0                 1\n",
              "3           4   7.40  ...               0                 1\n",
              "4           5   4.15  ...               0                 0\n",
              "\n",
              "[5 rows x 16 columns]"
            ]
          },
          "metadata": {
            "tags": []
          },
          "execution_count": 17
        }
      ]
    },
    {
      "cell_type": "markdown",
      "metadata": {
        "id": "IfH0f16Q0Dyv"
      },
      "source": [
        "Now that the data has only numeric columns, we can proceed to the analysis.  \n",
        "Use `Sales` as the outcome variable  \n",
        "(a) Split the data set into a training set and a test set.  \n",
        "(b) Fit a regression tree to the training set with the default depth. What train and test MSE do you obtain?  \n",
        "(c) Use cross-validation in order to determine the optimal level of tree complexity. Does pruning the tree improve the test MSE? Plot a tree with a depth of 3, and interpret the results.  \n",
        "(d) Use a bagging approach in order to analyze this data. What test MSE do you obtain? Look at the feature importances attribute of your model object to determine which variables are most important.  \n",
        "(e) Use random forests to analyze this data. What test MSE do you obtain? Look at the feature importances attribute of your model object function to determine which variables are most important. Describe the effect of m, the number of variables considered at each split, on the error rate obtained."
      ]
    },
    {
      "cell_type": "code",
      "metadata": {
        "id": "sR8aBPfo0Dyw",
        "colab": {
          "base_uri": "https://localhost:8080/"
        },
        "outputId": "f9445e2d-4638-48ef-9556-fc05d32cacb4"
      },
      "source": [
        "# Part A\n",
        "y = dumbcar[\"Sales\"]\n",
        "X = dumbcar.loc[:,[x for x in dumbcar.columns if x != \"Sales\"]]\n",
        "print(X.shape,y.shape)\n",
        "\n",
        "from sklearn.model_selection import train_test_split \n",
        "\n",
        "X_train, X_test, y_train, y_test = train_test_split(X,y,random_state=42)\n"
      ],
      "execution_count": null,
      "outputs": [
        {
          "output_type": "stream",
          "text": [
            "(400, 15) (400,)\n"
          ],
          "name": "stdout"
        }
      ]
    },
    {
      "cell_type": "code",
      "metadata": {
        "id": "EGtd607mUnMH",
        "colab": {
          "base_uri": "https://localhost:8080/"
        },
        "outputId": "26a56f75-9fb2-4806-ed92-6b99b3e1a0ba"
      },
      "source": [
        "# Part B Decision tree\n",
        "\n",
        "from sklearn.tree import DecisionTreeRegressor\n",
        "from sklearn.model_selection import cross_val_score\n",
        "\n",
        "\n",
        "\n",
        "Regarbol = DecisionTreeRegressor(random_state=42).fit(X_train, y_train)\n",
        "print(Regarbol.score(X_test,y_test))\n",
        "from sklearn import tree\n",
        "\n",
        "print(\"Decision tree Training set score: {:.3f}\".format(Regarbol.score(X_train,y_train)))\n",
        "print(\"Decision tree Test : {:.3f}\".format(Regarbol.score(X_test,y_test)))\n",
        "# tree.plot_tree(Regarbol)\n",
        "# Did not print out the tree its pretty nasty. \n"
      ],
      "execution_count": null,
      "outputs": [
        {
          "output_type": "stream",
          "text": [
            "0.4487954152093626\n",
            "Decision tree Training set score: 1.000\n",
            "Decision tree Test : 0.449\n"
          ],
          "name": "stdout"
        }
      ]
    },
    {
      "cell_type": "code",
      "metadata": {
        "id": "Y8neEYApUm__",
        "colab": {
          "base_uri": "https://localhost:8080/",
          "height": 1000
        },
        "outputId": "2974b52d-d958-4a8d-e1ac-cb9d3418fbb9"
      },
      "source": [
        "# Part C\n",
        "# Pruning doesnt make a huge imrpovement to our MSE\n",
        "# The resulting tree splits on the shelveloc_good and on subsequent features if they are less than or = to .5 and the other group of features >.5   \n",
        "from sklearn.model_selection import GridSearchCV \n",
        "depth_grid = {'max_depth': [1,2,3,4,5,6,7,8,9,10,11,12,13,14,15]}\n",
        "grid_search = GridSearchCV(Regarbol,depth_grid,cv=5,return_train_score=True)\n",
        "best_model=grid_search.fit(X_train,y_train)\n",
        "\n",
        "print(\"Best max_depth:\",best_model.best_estimator_.get_params()['max_depth'])\n",
        "print(\"Accuracy  training set: {:.3f}\".format(best_model.score(X_train, y_train)))\n",
        "print(\"Accuracy test set: {:.3f}\".format(best_model.score(X_test, y_test)))\n",
        "\n",
        "regCV = DecisionTreeRegressor(max_depth = 3).fit(X_train,y_train)\n",
        "\n",
        "\n",
        "print(\"Training set depth = 3: {:.3f}\".format(regCV.score(X_train,y_train)))\n",
        "print(\"Test set score  depth = 3: {:.3f}\".format(regCV.score(X_test,y_test)))\n",
        "\n",
        "from sklearn import tree\n",
        "import matplotlib.pyplot as plt\n",
        "fig = plt.figure(figsize=(15,15))\n",
        "tree.plot_tree(regCV)\n"
      ],
      "execution_count": null,
      "outputs": [
        {
          "output_type": "stream",
          "text": [
            "Best max_depth: 2\n",
            "Accuracy  training set: 0.377\n",
            "Accuracy test set: 0.443\n",
            "Training set depth = 3: 0.499\n",
            "Test set score  depth = 3: 0.455\n"
          ],
          "name": "stdout"
        },
        {
          "output_type": "execute_result",
          "data": {
            "text/plain": [
              "[Text(418.5, 713.475, 'X[13] <= 0.5\\nmse = 7.497\\nsamples = 300\\nvalue = 7.397'),\n",
              " Text(209.25, 509.625, 'X[5] <= 105.5\\nmse = 6.088\\nsamples = 239\\nvalue = 6.78'),\n",
              " Text(104.625, 305.775, 'X[6] <= 49.5\\nmse = 5.498\\nsamples = 79\\nvalue = 8.294'),\n",
              " Text(52.3125, 101.92499999999995, 'mse = 2.945\\nsamples = 32\\nvalue = 9.718'),\n",
              " Text(156.9375, 101.92499999999995, 'mse = 4.918\\nsamples = 47\\nvalue = 7.325'),\n",
              " Text(313.875, 305.775, 'X[12] <= 0.5\\nmse = 4.689\\nsamples = 160\\nvalue = 6.032'),\n",
              " Text(261.5625, 101.92499999999995, 'mse = 4.084\\nsamples = 114\\nvalue = 6.54'),\n",
              " Text(366.1875, 101.92499999999995, 'mse = 3.963\\nsamples = 46\\nvalue = 4.774'),\n",
              " Text(627.75, 509.625, 'X[5] <= 135.0\\nmse = 5.683\\nsamples = 61\\nvalue = 9.814'),\n",
              " Text(523.125, 305.775, 'X[5] <= 73.0\\nmse = 3.74\\nsamples = 48\\nvalue = 10.572'),\n",
              " Text(470.8125, 101.92499999999995, 'mse = 1.171\\nsamples = 3\\nvalue = 14.327'),\n",
              " Text(575.4375, 101.92499999999995, 'mse = 2.909\\nsamples = 45\\nvalue = 10.321'),\n",
              " Text(732.375, 305.775, 'X[6] <= 62.5\\nmse = 2.912\\nsamples = 13\\nvalue = 7.017'),\n",
              " Text(680.0625, 101.92499999999995, 'mse = 1.644\\nsamples = 8\\nvalue = 7.944'),\n",
              " Text(784.6875, 101.92499999999995, 'mse = 1.369\\nsamples = 5\\nvalue = 5.534')]"
            ]
          },
          "metadata": {
            "tags": []
          },
          "execution_count": 20
        },
        {
          "output_type": "display_data",
          "data": {
            "image/png": "[encoded data removed]",
            "text/plain": [
              "<Figure size 1080x1080 with 1 Axes>"
            ]
          },
          "metadata": {
            "tags": [],
            "needs_background": "light"
          }
        }
      ]
    },
    {
      "cell_type": "code",
      "metadata": {
        "id": "wgEv0Y_zf6NP",
        "colab": {
          "base_uri": "https://localhost:8080/",
          "height": 313
        },
        "outputId": "f3c4668f-628c-4952-fd94-f9b462c5f4be"
      },
      "source": [
        "# Part D this one was a doozy. \n",
        "# Looking at the plot we can see that Price is the most important feature followed by shelveloc_good.\n",
        "from sklearn.ensemble import BaggingRegressor\n",
        "\n",
        "bag = BaggingRegressor().fit(X_train,y_train)\n",
        "\n",
        "print(\"Training set score: {:.3f}\".format(bag.score(X_train,y_train)))\n",
        "print(\"Test set score: {:.3f}\".format(bag.score(X_test,y_test)))\n",
        "\n",
        "from matplotlib import pyplot as plt\n",
        "\n",
        "featureImportances = []\n",
        "for i in bag.estimators_:\n",
        "    featureImportances.append(i.feature_importances_)\n",
        "featureImportances = sum(featureImportances) / len(featureImportances)\n",
        "def plot_feature_importances(model):\n",
        "    n_features = X_train.shape[1]\n",
        "    plt.barh(np.arange(n_features), featureImportances, align=\"center\")\n",
        "    plt.yticks(np.arange(n_features), X_train.columns)\n",
        "    plt.xlabel(\"Feature importance\")\n",
        "    plt.ylabel(\"Feature\")\n",
        "    plt.ylim(-1, n_features)\n",
        "    \n",
        "plot_feature_importances(bag)\n"
      ],
      "execution_count": null,
      "outputs": [
        {
          "output_type": "stream",
          "text": [
            "Training set score: 0.930\n",
            "Test set score: 0.625\n"
          ],
          "name": "stdout"
        },
        {
          "output_type": "display_data",
          "data": {
            "image/png": "[encoded data removed]",
            "text/plain": [
              "<Figure size 432x288 with 1 Axes>"
            ]
          },
          "metadata": {
            "tags": [],
            "needs_background": "light"
          }
        }
      ]
    },
    {
      "cell_type": "markdown",
      "metadata": {
        "id": "gAEErzs-Qy57"
      },
      "source": [
        ""
      ]
    },
    {
      "cell_type": "code",
      "metadata": {
        "id": "RdmoYIB8f-8W",
        "colab": {
          "base_uri": "https://localhost:8080/",
          "height": 415
        },
        "outputId": "91245f39-c629-479f-b315-9072624159df"
      },
      "source": [
        "# Part E\n",
        "from sklearn.ensemble import RandomForestRegressor \n",
        "\n",
        "forest = RandomForestRegressor().fit(X_train,y_train)\n",
        "\n",
        "print(\"Training set score: {:.3f}\".format(forest.score(X_train,y_train)))\n",
        "print(\"Test set score: {:.3f}\".format(forest.score(X_test,y_test)))\n",
        "\n",
        "\n",
        "def plot_feature_importances_car(model):\n",
        "    n_features = X_train.shape[1]\n",
        "    plt.barh(np.arange(n_features), model.feature_importances_, align='center')\n",
        "    plt.yticks(np.arange(n_features), X_train.columns)\n",
        "    plt.xlabel(\"Feature importance\")\n",
        "    plt.ylabel(\"Feature\")\n",
        "    plt.ylim(-1, n_features)\n",
        "\n",
        "plot_feature_importances_car(forest)\n",
        "\n",
        "\n",
        "randomforry= RandomForestRegressor(max_features=3, random_state=42).fit(X_train,y_train)\n",
        "\n",
        "\n",
        "print(\"Training set test error rate with 3 freatures : {:.3f}\".format(1-randomforry.score(X_train,y_train)))\n",
        "print(\"Test set test error rate with 3 features: {:.3f}\".format(1-randomforry.score(X_test,y_test)))\n",
        "\n",
        "randomforry2= RandomForestRegressor(max_features=6, random_state=42).fit(X_train,y_train)\n",
        "\n",
        "\n",
        "print(\"Training set test error rate with 6 freatures : {:.3f}\".format(1-randomforry2.score(X_train,y_train)))\n",
        "print(\"Test set test error rate with 6 features: {:.3f}\".format(1-randomforry2.score(X_test,y_test)))\n",
        "\n",
        "randomforry3= RandomForestRegressor(max_features=13, random_state=42).fit(X_train,y_train)\n",
        "\n",
        "\n",
        "print(\"Training set test error rate with 13 freatures : {:.3f}\".format(1-randomforry3.score(X_train,y_train)))\n",
        "print(\"Test set test error rate with 13 features: {:.3f}\".format(1-randomforry3.score(X_test,y_test)))\n",
        "\n",
        "\n",
        "# Similar to the chart PRICE is stil the mostimportant followed by shelveloc althogh  shelveloc_good becomes even more important.\n",
        "# as M increases we can see that our test error rate / test set score improves with each increase of features."
      ],
      "execution_count": null,
      "outputs": [
        {
          "output_type": "stream",
          "text": [
            "Training set score: 0.952\n",
            "Test set score: 0.684\n",
            "Training set test error rate with 3 freatures : 0.063\n",
            "Test set test error rate with 3 features: 0.424\n",
            "Training set test error rate with 6 freatures : 0.052\n",
            "Test set test error rate with 6 features: 0.348\n",
            "Training set test error rate with 13 freatures : 0.047\n",
            "Test set test error rate with 13 features: 0.313\n"
          ],
          "name": "stdout"
        },
        {
          "output_type": "display_data",
          "data": {
            "image/png": "[encoded data removed]",
            "text/plain": [
              "<Figure size 432x288 with 1 Axes>"
            ]
          },
          "metadata": {
            "tags": [],
            "needs_background": "light"
          }
        }
      ]
    },
    {
      "cell_type": "markdown",
      "metadata": {
        "id": "aIVz2NXy0Dyw"
      },
      "source": [
        "**We** will now use boosting to predict Log Salary in the `Hitters` data set.  \n",
        "(a) Format the data appropriately for this analysis. Use 200 observations in your training set.  \n",
        "(b) Perform boosting on the training set with 1,000 trees for a range of values of the shrinkage parameter λ. Produce a plot with different shrinkage values on the x-axis and the corresponding training set MSE on the y-axis. Add a curve with different shrinkage values on the x-axis and the corresponding test set MSE on the y-axis. The shrinkage parameter is often referred to as the learning rate   \n",
        "(c) Compare the test MSE of boosting to the test MSE of two of the penalized regression approaches that we discussed  \n",
        "(d) Which variables appear to be the most important predictors in the boosted model?  \n",
        "(e) The default for base estimator is a Decision Tree with a maximum depth of 3. Is that the optimal depth? Justify your response.  \n",
        "(f) Now that the boosting model is tuned, let's compare the results to bagging and random forests. Report test errors for your models and discuss how they compare."
      ]
    },
    {
      "cell_type": "code",
      "metadata": {
        "id": "jIj5S1kh0Dyx"
      },
      "source": [
        "hitters = pd.read_csv('/content/drive/MyDrive/Econ 484/Hitters.csv')"
      ],
      "execution_count": null,
      "outputs": []
    },
    {
      "cell_type": "code",
      "metadata": {
        "id": "KmiaEdurX3Um",
        "colab": {
          "base_uri": "https://localhost:8080/"
        },
        "outputId": "fd86a724-d335-45e3-da83-c3d6e4c60294"
      },
      "source": [
        "hitters.head(10)\n",
        "\n",
        "hitters = hitters.dropna()\n",
        "\n",
        "hitters.shape\n",
        "\n"
      ],
      "execution_count": null,
      "outputs": [
        {
          "output_type": "execute_result",
          "data": {
            "text/plain": [
              "(263, 20)"
            ]
          },
          "metadata": {
            "tags": []
          },
          "execution_count": 24
        }
      ]
    },
    {
      "cell_type": "code",
      "metadata": {
        "id": "DCHRnTIbvxiu",
        "colab": {
          "base_uri": "https://localhost:8080/",
          "height": 246
        },
        "outputId": "54fab930-a37e-4ecc-c8dd-a1195bcaf8a5"
      },
      "source": [
        "hitters = pd.get_dummies(hitters, columns=['League','Division','NewLeague'])\n",
        " \n",
        "print(hitters.shape)\n",
        "hitters.head()\n",
        "\n",
        "\n"
      ],
      "execution_count": null,
      "outputs": [
        {
          "output_type": "stream",
          "text": [
            "(263, 23)\n"
          ],
          "name": "stdout"
        },
        {
          "output_type": "execute_result",
          "data": {
            "text/html": [
              "<div>\n",
              "<style scoped>\n",
              "    .dataframe tbody tr th:only-of-type {\n",
              "        vertical-align: middle;\n",
              "    }\n",
              "\n",
              "    .dataframe tbody tr th {\n",
              "        vertical-align: top;\n",
              "    }\n",
              "\n",
              "    .dataframe thead th {\n",
              "        text-align: right;\n",
              "    }\n",
              "</style>\n",
              "<table border=\"1\" class=\"dataframe\">\n",
              "  <thead>\n",
              "    <tr style=\"text-align: right;\">\n",
              "      <th></th>\n",
              "      <th>AtBat</th>\n",
              "      <th>Hits</th>\n",
              "      <th>HmRun</th>\n",
              "      <th>Runs</th>\n",
              "      <th>RBI</th>\n",
              "      <th>Walks</th>\n",
              "      <th>Years</th>\n",
              "      <th>CAtBat</th>\n",
              "      <th>CHits</th>\n",
              "      <th>CHmRun</th>\n",
              "      <th>CRuns</th>\n",
              "      <th>CRBI</th>\n",
              "      <th>CWalks</th>\n",
              "      <th>PutOuts</th>\n",
              "      <th>Assists</th>\n",
              "      <th>Errors</th>\n",
              "      <th>Salary</th>\n",
              "      <th>League_A</th>\n",
              "      <th>League_N</th>\n",
              "      <th>Division_E</th>\n",
              "      <th>Division_W</th>\n",
              "      <th>NewLeague_A</th>\n",
              "      <th>NewLeague_N</th>\n",
              "    </tr>\n",
              "  </thead>\n",
              "  <tbody>\n",
              "    <tr>\n",
              "      <th>1</th>\n",
              "      <td>315</td>\n",
              "      <td>81</td>\n",
              "      <td>7</td>\n",
              "      <td>24</td>\n",
              "      <td>38</td>\n",
              "      <td>39</td>\n",
              "      <td>14</td>\n",
              "      <td>3449</td>\n",
              "      <td>835</td>\n",
              "      <td>69</td>\n",
              "      <td>321</td>\n",
              "      <td>414</td>\n",
              "      <td>375</td>\n",
              "      <td>632</td>\n",
              "      <td>43</td>\n",
              "      <td>10</td>\n",
              "      <td>475.0</td>\n",
              "      <td>0</td>\n",
              "      <td>1</td>\n",
              "      <td>0</td>\n",
              "      <td>1</td>\n",
              "      <td>0</td>\n",
              "      <td>1</td>\n",
              "    </tr>\n",
              "    <tr>\n",
              "      <th>2</th>\n",
              "      <td>479</td>\n",
              "      <td>130</td>\n",
              "      <td>18</td>\n",
              "      <td>66</td>\n",
              "      <td>72</td>\n",
              "      <td>76</td>\n",
              "      <td>3</td>\n",
              "      <td>1624</td>\n",
              "      <td>457</td>\n",
              "      <td>63</td>\n",
              "      <td>224</td>\n",
              "      <td>266</td>\n",
              "      <td>263</td>\n",
              "      <td>880</td>\n",
              "      <td>82</td>\n",
              "      <td>14</td>\n",
              "      <td>480.0</td>\n",
              "      <td>1</td>\n",
              "      <td>0</td>\n",
              "      <td>0</td>\n",
              "      <td>1</td>\n",
              "      <td>1</td>\n",
              "      <td>0</td>\n",
              "    </tr>\n",
              "    <tr>\n",
              "      <th>3</th>\n",
              "      <td>496</td>\n",
              "      <td>141</td>\n",
              "      <td>20</td>\n",
              "      <td>65</td>\n",
              "      <td>78</td>\n",
              "      <td>37</td>\n",
              "      <td>11</td>\n",
              "      <td>5628</td>\n",
              "      <td>1575</td>\n",
              "      <td>225</td>\n",
              "      <td>828</td>\n",
              "      <td>838</td>\n",
              "      <td>354</td>\n",
              "      <td>200</td>\n",
              "      <td>11</td>\n",
              "      <td>3</td>\n",
              "      <td>500.0</td>\n",
              "      <td>0</td>\n",
              "      <td>1</td>\n",
              "      <td>1</td>\n",
              "      <td>0</td>\n",
              "      <td>0</td>\n",
              "      <td>1</td>\n",
              "    </tr>\n",
              "    <tr>\n",
              "      <th>4</th>\n",
              "      <td>321</td>\n",
              "      <td>87</td>\n",
              "      <td>10</td>\n",
              "      <td>39</td>\n",
              "      <td>42</td>\n",
              "      <td>30</td>\n",
              "      <td>2</td>\n",
              "      <td>396</td>\n",
              "      <td>101</td>\n",
              "      <td>12</td>\n",
              "      <td>48</td>\n",
              "      <td>46</td>\n",
              "      <td>33</td>\n",
              "      <td>805</td>\n",
              "      <td>40</td>\n",
              "      <td>4</td>\n",
              "      <td>91.5</td>\n",
              "      <td>0</td>\n",
              "      <td>1</td>\n",
              "      <td>1</td>\n",
              "      <td>0</td>\n",
              "      <td>0</td>\n",
              "      <td>1</td>\n",
              "    </tr>\n",
              "    <tr>\n",
              "      <th>5</th>\n",
              "      <td>594</td>\n",
              "      <td>169</td>\n",
              "      <td>4</td>\n",
              "      <td>74</td>\n",
              "      <td>51</td>\n",
              "      <td>35</td>\n",
              "      <td>11</td>\n",
              "      <td>4408</td>\n",
              "      <td>1133</td>\n",
              "      <td>19</td>\n",
              "      <td>501</td>\n",
              "      <td>336</td>\n",
              "      <td>194</td>\n",
              "      <td>282</td>\n",
              "      <td>421</td>\n",
              "      <td>25</td>\n",
              "      <td>750.0</td>\n",
              "      <td>1</td>\n",
              "      <td>0</td>\n",
              "      <td>0</td>\n",
              "      <td>1</td>\n",
              "      <td>1</td>\n",
              "      <td>0</td>\n",
              "    </tr>\n",
              "  </tbody>\n",
              "</table>\n",
              "</div>"
            ],
            "text/plain": [
              "   AtBat  Hits  HmRun  Runs  ...  Division_E  Division_W  NewLeague_A  NewLeague_N\n",
              "1    315    81      7    24  ...           0           1            0            1\n",
              "2    479   130     18    66  ...           0           1            1            0\n",
              "3    496   141     20    65  ...           1           0            0            1\n",
              "4    321    87     10    39  ...           1           0            0            1\n",
              "5    594   169      4    74  ...           0           1            1            0\n",
              "\n",
              "[5 rows x 23 columns]"
            ]
          },
          "metadata": {
            "tags": []
          },
          "execution_count": 25
        }
      ]
    },
    {
      "cell_type": "code",
      "metadata": {
        "id": "QpSMcz6oweD8",
        "colab": {
          "base_uri": "https://localhost:8080/",
          "height": 229
        },
        "outputId": "6e765cfb-4ceb-4e37-ac50-b5f10b270f80"
      },
      "source": [
        "hitters['log_Salary'] = np.log(hitters['Salary']) \n",
        "hitters.head()"
      ],
      "execution_count": null,
      "outputs": [
        {
          "output_type": "execute_result",
          "data": {
            "text/html": [
              "<div>\n",
              "<style scoped>\n",
              "    .dataframe tbody tr th:only-of-type {\n",
              "        vertical-align: middle;\n",
              "    }\n",
              "\n",
              "    .dataframe tbody tr th {\n",
              "        vertical-align: top;\n",
              "    }\n",
              "\n",
              "    .dataframe thead th {\n",
              "        text-align: right;\n",
              "    }\n",
              "</style>\n",
              "<table border=\"1\" class=\"dataframe\">\n",
              "  <thead>\n",
              "    <tr style=\"text-align: right;\">\n",
              "      <th></th>\n",
              "      <th>AtBat</th>\n",
              "      <th>Hits</th>\n",
              "      <th>HmRun</th>\n",
              "      <th>Runs</th>\n",
              "      <th>RBI</th>\n",
              "      <th>Walks</th>\n",
              "      <th>Years</th>\n",
              "      <th>CAtBat</th>\n",
              "      <th>CHits</th>\n",
              "      <th>CHmRun</th>\n",
              "      <th>CRuns</th>\n",
              "      <th>CRBI</th>\n",
              "      <th>CWalks</th>\n",
              "      <th>PutOuts</th>\n",
              "      <th>Assists</th>\n",
              "      <th>Errors</th>\n",
              "      <th>Salary</th>\n",
              "      <th>League_A</th>\n",
              "      <th>League_N</th>\n",
              "      <th>Division_E</th>\n",
              "      <th>Division_W</th>\n",
              "      <th>NewLeague_A</th>\n",
              "      <th>NewLeague_N</th>\n",
              "      <th>log_Salary</th>\n",
              "    </tr>\n",
              "  </thead>\n",
              "  <tbody>\n",
              "    <tr>\n",
              "      <th>1</th>\n",
              "      <td>315</td>\n",
              "      <td>81</td>\n",
              "      <td>7</td>\n",
              "      <td>24</td>\n",
              "      <td>38</td>\n",
              "      <td>39</td>\n",
              "      <td>14</td>\n",
              "      <td>3449</td>\n",
              "      <td>835</td>\n",
              "      <td>69</td>\n",
              "      <td>321</td>\n",
              "      <td>414</td>\n",
              "      <td>375</td>\n",
              "      <td>632</td>\n",
              "      <td>43</td>\n",
              "      <td>10</td>\n",
              "      <td>475.0</td>\n",
              "      <td>0</td>\n",
              "      <td>1</td>\n",
              "      <td>0</td>\n",
              "      <td>1</td>\n",
              "      <td>0</td>\n",
              "      <td>1</td>\n",
              "      <td>6.163315</td>\n",
              "    </tr>\n",
              "    <tr>\n",
              "      <th>2</th>\n",
              "      <td>479</td>\n",
              "      <td>130</td>\n",
              "      <td>18</td>\n",
              "      <td>66</td>\n",
              "      <td>72</td>\n",
              "      <td>76</td>\n",
              "      <td>3</td>\n",
              "      <td>1624</td>\n",
              "      <td>457</td>\n",
              "      <td>63</td>\n",
              "      <td>224</td>\n",
              "      <td>266</td>\n",
              "      <td>263</td>\n",
              "      <td>880</td>\n",
              "      <td>82</td>\n",
              "      <td>14</td>\n",
              "      <td>480.0</td>\n",
              "      <td>1</td>\n",
              "      <td>0</td>\n",
              "      <td>0</td>\n",
              "      <td>1</td>\n",
              "      <td>1</td>\n",
              "      <td>0</td>\n",
              "      <td>6.173786</td>\n",
              "    </tr>\n",
              "    <tr>\n",
              "      <th>3</th>\n",
              "      <td>496</td>\n",
              "      <td>141</td>\n",
              "      <td>20</td>\n",
              "      <td>65</td>\n",
              "      <td>78</td>\n",
              "      <td>37</td>\n",
              "      <td>11</td>\n",
              "      <td>5628</td>\n",
              "      <td>1575</td>\n",
              "      <td>225</td>\n",
              "      <td>828</td>\n",
              "      <td>838</td>\n",
              "      <td>354</td>\n",
              "      <td>200</td>\n",
              "      <td>11</td>\n",
              "      <td>3</td>\n",
              "      <td>500.0</td>\n",
              "      <td>0</td>\n",
              "      <td>1</td>\n",
              "      <td>1</td>\n",
              "      <td>0</td>\n",
              "      <td>0</td>\n",
              "      <td>1</td>\n",
              "      <td>6.214608</td>\n",
              "    </tr>\n",
              "    <tr>\n",
              "      <th>4</th>\n",
              "      <td>321</td>\n",
              "      <td>87</td>\n",
              "      <td>10</td>\n",
              "      <td>39</td>\n",
              "      <td>42</td>\n",
              "      <td>30</td>\n",
              "      <td>2</td>\n",
              "      <td>396</td>\n",
              "      <td>101</td>\n",
              "      <td>12</td>\n",
              "      <td>48</td>\n",
              "      <td>46</td>\n",
              "      <td>33</td>\n",
              "      <td>805</td>\n",
              "      <td>40</td>\n",
              "      <td>4</td>\n",
              "      <td>91.5</td>\n",
              "      <td>0</td>\n",
              "      <td>1</td>\n",
              "      <td>1</td>\n",
              "      <td>0</td>\n",
              "      <td>0</td>\n",
              "      <td>1</td>\n",
              "      <td>4.516339</td>\n",
              "    </tr>\n",
              "    <tr>\n",
              "      <th>5</th>\n",
              "      <td>594</td>\n",
              "      <td>169</td>\n",
              "      <td>4</td>\n",
              "      <td>74</td>\n",
              "      <td>51</td>\n",
              "      <td>35</td>\n",
              "      <td>11</td>\n",
              "      <td>4408</td>\n",
              "      <td>1133</td>\n",
              "      <td>19</td>\n",
              "      <td>501</td>\n",
              "      <td>336</td>\n",
              "      <td>194</td>\n",
              "      <td>282</td>\n",
              "      <td>421</td>\n",
              "      <td>25</td>\n",
              "      <td>750.0</td>\n",
              "      <td>1</td>\n",
              "      <td>0</td>\n",
              "      <td>0</td>\n",
              "      <td>1</td>\n",
              "      <td>1</td>\n",
              "      <td>0</td>\n",
              "      <td>6.620073</td>\n",
              "    </tr>\n",
              "  </tbody>\n",
              "</table>\n",
              "</div>"
            ],
            "text/plain": [
              "   AtBat  Hits  HmRun  Runs  ...  Division_W  NewLeague_A  NewLeague_N  log_Salary\n",
              "1    315    81      7    24  ...           1            0            1    6.163315\n",
              "2    479   130     18    66  ...           1            1            0    6.173786\n",
              "3    496   141     20    65  ...           0            0            1    6.214608\n",
              "4    321    87     10    39  ...           0            0            1    4.516339\n",
              "5    594   169      4    74  ...           1            1            0    6.620073\n",
              "\n",
              "[5 rows x 24 columns]"
            ]
          },
          "metadata": {
            "tags": []
          },
          "execution_count": 26
        }
      ]
    },
    {
      "cell_type": "code",
      "metadata": {
        "id": "9zZHwAPMwdpB",
        "colab": {
          "base_uri": "https://localhost:8080/"
        },
        "outputId": "1d9d88d7-9245-4de0-cc99-d9a32fbf7b7c"
      },
      "source": [
        "\n",
        "y = hitters['log_Salary']\n",
        "x = hitters.loc[:,[x for x in hitters.columns if x != 'Salary' and x != 'log_Salary']]\n",
        "print(x.shape, y.shape)\n",
        "\n"
      ],
      "execution_count": null,
      "outputs": [
        {
          "output_type": "stream",
          "text": [
            "(263, 22) (263,)\n"
          ],
          "name": "stdout"
        }
      ]
    },
    {
      "cell_type": "code",
      "metadata": {
        "id": "rddnQzSIxslR"
      },
      "source": [
        "from sklearn.model_selection import train_test_split \n",
        "\n",
        "x_train, x_test, y_train, y_test = train_test_split(x,y,random_state=42,train_size = .7605)\n",
        "\n",
        "# should have us at 200 observations"
      ],
      "execution_count": null,
      "outputs": []
    },
    {
      "cell_type": "code",
      "metadata": {
        "id": "8cmvqzcUydsm",
        "colab": {
          "base_uri": "https://localhost:8080/",
          "height": 745
        },
        "outputId": "5bca898f-29a7-4400-b529-b9b9459b353a"
      },
      "source": [
        "# Part B \n",
        "\n",
        "from sklearn.ensemble import GradientBoostingRegressor\n",
        " \n",
        "\n",
        "booster = GradientBoostingRegressor(n_estimators = 1000, random_state = 0, learning_rate = .01).fit(x_train, y_train)\n",
        "booster2 = GradientBoostingRegressor(n_estimators = 1000, random_state = 0, learning_rate = .001).fit(x_train, y_train)\n",
        "booster3 = GradientBoostingRegressor(n_estimators = 1000, random_state = 0, learning_rate = .0001).fit(x_train, y_train)\n",
        "booster4 = GradientBoostingRegressor(n_estimators = 1000, random_state = 0, learning_rate = .00001).fit(x_train, y_train)\n",
        "booster5 = GradientBoostingRegressor(n_estimators = 1000, random_state = 0, learning_rate = .000001).fit(x_train, y_train)\n",
        "booster6 = GradientBoostingRegressor(n_estimators = 1000, random_state = 0, learning_rate = .0000001).fit(x_train, y_train)\n",
        " \n",
        " \n",
        "print(\"Training set score: {:.3f}\".format(booster.score(x_train,y_train)))\n",
        "print(\"Test set score: {:.3f}\".format(booster.score(x_test,y_test)))\n",
        " \n",
        "print(\"Training set score: {:.3f}\".format(booster2.score(x_train,y_train)))\n",
        "print(\"Test set score: {:.3f}\".format(booster2.score(x_test,y_test)))\n",
        " \n",
        "print(\"Training set score: {:.3f}\".format(booster3.score(x_train,y_train)))\n",
        "print(\"Test set score: {:.3f}\".format(booster3.score(x_test,y_test)))\n",
        " \n",
        "print(\"Training set score: {:.3f}\".format(booster4.score(x_train,y_train)))\n",
        "print(\"Test set score: {:.3f}\".format(booster4.score(x_test,y_test)))\n",
        " \n",
        "print(\"Training set score: {:.3f}\".format(booster5.score(x_train,y_train)))\n",
        "print(\"Test set score: {:.3f}\".format(booster5.score(x_test,y_test)))\n",
        " \n",
        "print(\"Training set score: {:.3f}\".format(booster6.score(x_train,y_train)))\n",
        "print(\"Test set score: {:.3f}\".format(booster6.score(x_test,y_test)))\n",
        "\n",
        "\n",
        "\n",
        "\n",
        "data = np.array([\n",
        "    [.01, .988],\n",
        "    [.001, .998],\n",
        "    [.0001, 1],\n",
        "    [.00001, 1],\n",
        "    [.000001, 1],\n",
        "    [.0000001, 1]\n",
        "])\n",
        "x, y = data.T\n",
        "plt.scatter(x,y)\n",
        "plt.plot(x,y)\n",
        "plt.xlabel('Learning Rate')\n",
        "plt.ylabel('Training Error Rate')\n",
        "plt.show()\n",
        " \n",
        " \n",
        " \n",
        "data = np.array([\n",
        "    [.01, .638],\n",
        "    [.001, .639],\n",
        "    [.0001, .605],\n",
        "    [.00001, .630],\n",
        "    [.000001, .625],\n",
        "    [.0000001, .617]\n",
        "])\n",
        "x, y = data.T\n",
        "plt.scatter(x,y)\n",
        "plt.plot(x,y)\n",
        "plt.xlabel('Learning Rate')\n",
        "plt.ylabel('Test Error Rate')\n",
        "plt.show()\n",
        "\n"
      ],
      "execution_count": null,
      "outputs": [
        {
          "output_type": "stream",
          "text": [
            "Training set score: 0.988\n",
            "Test set score: 0.638\n",
            "Training set score: 0.755\n",
            "Test set score: 0.631\n",
            "Training set score: 0.152\n",
            "Test set score: 0.136\n",
            "Training set score: 0.017\n",
            "Test set score: 0.015\n",
            "Training set score: 0.002\n",
            "Test set score: 0.001\n",
            "Training set score: 0.000\n",
            "Test set score: -0.000\n"
          ],
          "name": "stdout"
        },
        {
          "output_type": "display_data",
          "data": {
            "image/png": "[encoded data removed]",
            "text/plain": [
              "<Figure size 432x288 with 1 Axes>"
            ]
          },
          "metadata": {
            "tags": [],
            "needs_background": "light"
          }
        },
        {
          "output_type": "display_data",
          "data": {
            "image/png": "[encoded data removed]",
            "text/plain": [
              "<Figure size 432x288 with 1 Axes>"
            ]
          },
          "metadata": {
            "tags": [],
            "needs_background": "light"
          }
        }
      ]
    },
    {
      "cell_type": "code",
      "metadata": {
        "id": "1kMi338l1hPr",
        "colab": {
          "base_uri": "https://localhost:8080/"
        },
        "outputId": "bdceb0a4-58cc-4b06-b21a-38885aad28e8"
      },
      "source": [
        "# Part C\n",
        "\n",
        "from sklearn.linear_model import LassoCV\n",
        "lassocv= LassoCV(cv=5).fit(x_train, np.ravel(y_train))\n",
        "lassocvalpha =Lasso(alpha = lassocv.alpha_,max_iter=100000).fit(x_train,y_train)\n",
        "print('Lasso score on training set: {:.3f}'.format(lassocvalpha.score(x_train,y_train)))\n",
        "print('Lasso score on test set: {:.3f}'.format(lassocvalpha.score(x_test,y_test)))\n",
        " \n",
        "from sklearn.linear_model import RidgeCV\n",
        "ridgecv= RidgeCV(cv=5).fit(x_train, np.ravel(y_train))\n",
        "ridgecvalpha =Lasso(alpha = ridgecv.alpha_,max_iter=100000).fit(x_train,y_train)\n",
        "print('Ridge score on training set: {:.3f}'.format(ridgecvalpha.score(x_train,y_train)))\n",
        "print('Ridge score on test set: {:.3f}'.format(ridgecvalpha.score(x_test,y_test)))\n",
        "\n",
        "print(\"booster 1Test set score: {:.3f}\".format(booster.score(x_test,y_test)))\n",
        "print(\"booster2 Test set score: {:.3f}\".format(booster2.score(x_test,y_test)))\n",
        "print(\"booster3 Test set score: {:.3f}\".format(booster3.score(x_test,y_test)))\n",
        "print(\"booster 4Test set score: {:.3f}\".format(booster4.score(x_test,y_test)))\n",
        "print(\"booster5 Test set score: {:.3f}\".format(booster5.score(x_test,y_test)))\n",
        "print(\"booster 6 Test set score: {:.3f}\".format(booster6.score(x_test,y_test)))\n",
        "\n",
        "print(\"here we can view the different test scores of the boost method vs ridge and lasso test scores.\")\n",
        "\n",
        "# If i exclude booster 3 -6 because of the shrinkage paramaters i chose we can see that both the lasso and ridge are pretty close to hwo well they perform BUT they dont do as good as the boosted method can as boster 2 can get up to .638 \n",
        " \n"
      ],
      "execution_count": null,
      "outputs": [
        {
          "output_type": "stream",
          "text": [
            "Lasso score on training set: 0.501\n",
            "Lasso score on test set: 0.360\n",
            "Ridge score on training set: 0.497\n",
            "Ridge score on test set: 0.370\n",
            "booster 1Test set score: 0.638\n",
            "booster2 Test set score: 0.631\n",
            "booster3 Test set score: 0.136\n",
            "booster 4Test set score: 0.015\n",
            "booster5 Test set score: 0.001\n",
            "booster 6 Test set score: -0.000\n",
            "here we can view the different test scores of the boost method vs ridge and lasso test scores.\n"
          ],
          "name": "stdout"
        }
      ]
    },
    {
      "cell_type": "code",
      "metadata": {
        "id": "UNg_8M6J8FJh"
      },
      "source": [
        ""
      ],
      "execution_count": null,
      "outputs": []
    },
    {
      "cell_type": "code",
      "metadata": {
        "id": "7LIEXlXu8Exd",
        "colab": {
          "base_uri": "https://localhost:8080/",
          "height": 296
        },
        "outputId": "549eba06-76d8-4f17-d08c-959f85560960"
      },
      "source": [
        "# Part D\n",
        "\n",
        "from matplotlib import pyplot as plt\n",
        "def plot_feature_importances_car(model):\n",
        "    n_features = x_train.shape[1]\n",
        "    plt.barh(np.arange(n_features), model.feature_importances_, align='center')\n",
        "    plt.yticks(np.arange(n_features), x_train.columns)\n",
        "    plt.xlabel(\"Feature importance\")\n",
        "    plt.ylabel(\"Feature\")\n",
        "    plt.ylim(-1, n_features)\n",
        " \n",
        "plot_feature_importances_car(booster2)\n",
        "print(\"It appears the most important feature is CAtBat <--  followed by CRuns and CHITS and CRBI\")"
      ],
      "execution_count": null,
      "outputs": [
        {
          "output_type": "stream",
          "text": [
            "It appears the most important feature is CAtBat <--  followed by CRuns and CHITS and CRBI\n"
          ],
          "name": "stdout"
        },
        {
          "output_type": "display_data",
          "data": {
            "image/png": "[encoded data removed]",
            "text/plain": [
              "<Figure size 432x288 with 1 Axes>"
            ]
          },
          "metadata": {
            "tags": [],
            "needs_background": "light"
          }
        }
      ]
    },
    {
      "cell_type": "code",
      "metadata": {
        "id": "c8YWWBxJ9OFX",
        "colab": {
          "base_uri": "https://localhost:8080/"
        },
        "outputId": "ad8223cf-562c-4be7-90ee-cba31728d4a7"
      },
      "source": [
        "# part E\n",
        "\n",
        "from sklearn.model_selection import GridSearchCV \n",
        "\n",
        "boostdefault = GradientBoostingRegressor(n_estimators = 1000, random_state = 42).fit(x_train, y_train)\n",
        "\n",
        "\n",
        "depth_grid = {'max_depth': [1,2,3,4,5,6,7,8,9,10,11,12,13,14,15]}\n",
        "grid_search = GridSearchCV(boostdefault,depth_grid,n_jobs=-1)\n",
        "best_model=grid_search.fit(x_train,y_train)\n",
        "print(\"Best max_depth:\",best_model.best_estimator_.get_params()['max_depth'])\n",
        "\n",
        "print(\"Accuracy on training set: {:.3f}\".format(\n",
        "    best_model.score(x_train, y_train)))\n",
        "print(\"Accuracy on test set: {:.3f}\".format(best_model.score(x_test, y_test)))\n",
        "\n",
        "#The optimal depth is 4 in this case and not 3 as when we run the crosss validation we find that the best max depth is 4. \n",
        "#"
      ],
      "execution_count": null,
      "outputs": [
        {
          "output_type": "stream",
          "text": [
            "Best max_depth: 1\n",
            "Accuracy on training set: 0.961\n",
            "Accuracy on test set: 0.604\n"
          ],
          "name": "stdout"
        }
      ]
    },
    {
      "cell_type": "code",
      "metadata": {
        "id": "gX0H2h5M3Y7c",
        "colab": {
          "base_uri": "https://localhost:8080/"
        },
        "outputId": "f56021d0-9bbb-4a32-eb62-11deb7ecc39b"
      },
      "source": [
        "# Part F \n",
        "forry = RandomForestRegressor().fit(x_train,y_train)\n",
        "\n",
        "print(\"Training Random Forest training error: {:.3f}\".format(1-forry.score(x_train,y_train)))\n",
        "print(\"TestRandom Forest test error: {:.3f}\".format(1-forry.score(x_test,y_test)))\n",
        "\n",
        "print(\"boostdefault training error : {:.3f}\".format(1-\n",
        "    boostdefault.score(x_train, y_train)))\n",
        "print(\"boostdefault test error  : {:.3f}\".format(1-boostdefault.score(x_test, y_test)))\n",
        "\n",
        "print(\"Training Random Forest score: {:.3f}\".format(forry.score(x_train,y_train)))\n",
        "print(\"TestRandom Forest score: {:.3f}\".format(forry.score(x_test,y_test)))\n",
        "\n",
        "print(\"boostdefault training score: {:.3f}\".format(\n",
        "    boostdefault.score(x_train, y_train)))\n",
        "print(\"boostdefault test score : {:.3f}\".format(boostdefault.score(x_test, y_test)))\n",
        "\n",
        "#Its pretty close between Random forest and The boosted does better on the training than the random forest... but on the test set they perform close to as well to each other in this scenario\n",
        "\n"
      ],
      "execution_count": null,
      "outputs": [
        {
          "output_type": "stream",
          "text": [
            "Training Random Forest training error: 0.034\n",
            "TestRandom Forest test error: 0.389\n",
            "boostdefault training error : 0.000\n",
            "boostdefault test error  : 0.373\n",
            "Training Random Forest score: 0.966\n",
            "TestRandom Forest score: 0.611\n",
            "boostdefault training score: 1.000\n",
            "boostdefault test score : 0.627\n"
          ],
          "name": "stdout"
        }
      ]
    },
    {
      "cell_type": "markdown",
      "metadata": {
        "id": "bTkvpZjm0Dyy"
      },
      "source": [
        "In this problem, you will use support vector approaches in order to predict whether a given car gets high or low gas mileage based on the Auto data set.  \n",
        "\n",
        "#### NOTE: SVM algortihms will often take longer than other models to train, particularly when doing cross validation\n",
        "\n",
        "(a) Create a binary variable that takes on a 1 for cars with gas mileage above the median, and a 0 for cars with gas mileage below the median.  \n",
        "(b) Fit a support vector classifier to the data with various values of cost, in order to predict whether a car gets high or low gas mileage. Report the cross-validation errors associated with different values of this parameter. Comment on your results.  \n",
        "(c) Make an ROC curve for your model. The module scikitplot has a nice function you might want to use but you should eb able to make it on your own or another module if you desire."
      ]
    },
    {
      "cell_type": "code",
      "metadata": {
        "id": "08nKW5qr0Dyz"
      },
      "source": [
        "automoto = pd.read_csv('/content/drive/MyDrive/Econ 484/Auto (2).csv')\n",
        "\n"
      ],
      "execution_count": null,
      "outputs": []
    },
    {
      "cell_type": "code",
      "metadata": {
        "id": "uM7H_RV7CGgM"
      },
      "source": [
        "# Part A\n",
        "automoto['horsepower'] = automoto['horsepower'].replace(to_replace=r'?', value=None, regex=False)\n",
        "automoto = automoto.dropna()\n",
        "automoto['horsepower'] = automoto['horsepower'].astype(float)\n",
        "automoto[\"median\"] = 0\n",
        "automoto.loc[automoto.mpg>=automoto.mpg.median(), \"median\"] = 1\n",
        "y = automoto['median']\n",
        "x = automoto.loc[:,[x for x in automoto.columns if x != \"median\" and x != 'mpg' and x != 'name']]\n",
        "x_train, x_test, y_train, y_test = train_test_split(x,y,random_state=42)"
      ],
      "execution_count": null,
      "outputs": []
    },
    {
      "cell_type": "code",
      "metadata": {
        "id": "GAmg-nC7H42J",
        "colab": {
          "base_uri": "https://localhost:8080/"
        },
        "outputId": "d0f8e471-81db-4e13-a494-ec3329c230e4"
      },
      "source": [
        "# Part B \n",
        "import warnings\n",
        "warnings.filterwarnings('ignore')\n",
        "from sklearn.svm import SVC\n",
        "\n",
        "\n",
        "listofcs = [1,5,10,30,50,75,1000000000]\n",
        "svmlist = []\n",
        "for x in range(len(listofcs)):\n",
        "  svc = SVC(C=listofcs[x]).fit(x_train,y_train)\n",
        "  print(\"The accuracy on the test set with C = \" + str(listofcs[x]) + \" is \" + str(svc.score(x_test,y_test)))\n",
        "  svmlist.append(svc)\n",
        "\n",
        "# Alrighty so here if we look we can see that the BIGGER THE C the better the result is. Fore example a score of 1000000000 performs really well when scores are in a relatively same bracket they perform pretty similar but the increase in cost does increase the score."
      ],
      "execution_count": null,
      "outputs": [
        {
          "output_type": "stream",
          "text": [
            "The accuracy on the test set with C = 1 is 0.85\n",
            "The accuracy on the test set with C = 5 is 0.85\n",
            "The accuracy on the test set with C = 10 is 0.86\n",
            "The accuracy on the test set with C = 30 is 0.86\n",
            "The accuracy on the test set with C = 50 is 0.86\n",
            "The accuracy on the test set with C = 75 is 0.86\n",
            "The accuracy on the test set with C = 1000000000 is 0.91\n"
          ],
          "name": "stdout"
        }
      ]
    },
    {
      "cell_type": "code",
      "metadata": {
        "id": "W7rUrHFKOfui",
        "colab": {
          "base_uri": "https://localhost:8080/",
          "height": 279
        },
        "outputId": "0d91c175-cd70-4a43-94ff-27491288bf0a"
      },
      "source": [
        "# Part C\n",
        "\n",
        "from sklearn.metrics import plot_roc_curve \n",
        "from sklearn import metrics\n",
        "from sklearn.model_selection import GridSearchCV \n",
        "\n",
        "\n",
        "depth_grid = {'C': [1,50,100],}\n",
        "grid_search = GridSearchCV(svc,depth_grid,cv=5,return_train_score=True)\n",
        "best_model=grid_search.fit(x_train,y_train)\n",
        "\n",
        "metrics.plot_roc_curve(best_model, x_test,y_test)\n",
        "plt.show()"
      ],
      "execution_count": null,
      "outputs": [
        {
          "output_type": "display_data",
          "data": {
            "image/png": "[encoded data removed]",
            "text/plain": [
              "<Figure size 432x288 with 1 Axes>"
            ]
          },
          "metadata": {
            "tags": [],
            "needs_background": "light"
          }
        }
      ]
    },
    {
      "cell_type": "markdown",
      "metadata": {
        "id": "ac4IyixZ0Dyz"
      },
      "source": [
        "Below there are some generated datasets of varying structure that you will classifying is SVMs, plotting the data to see what it looks like will likey be helpful. Find the basis kernel that does best job classifying each of them. Because the data is two dimensional, it might be nice to use a library like mlxtend which has a function that will display decision regions form an svm using a one of their functions."
      ]
    },
    {
      "cell_type": "code",
      "metadata": {
        "id": "xiGAlothEyrg"
      },
      "source": [
        "\n",
        "# For all different plots for moons, circles, and blobs 'rbf' performs the best as we can see that it fits the data plots thebest. \n"
      ],
      "execution_count": null,
      "outputs": []
    },
    {
      "cell_type": "code",
      "metadata": {
        "id": "1TS8dWla0Dy0",
        "colab": {
          "base_uri": "https://localhost:8080/",
          "height": 499
        },
        "outputId": "22b2f1b3-a142-468d-b7bf-48a12f77a756"
      },
      "source": [
        "from sklearn.datasets import make_moons\n",
        "x, y = make_moons(n_samples=100, shuffle=True, noise=1/10, random_state=123)\n",
        "\n",
        "\n",
        "\n",
        "from sklearn.svm import SVC\n",
        "svm =  SVC(C=10, gamma=0.1).fit(x, y)\n",
        "svm2 = SVC(kernel='poly', C=10, gamma=0.1).fit(x, y)\n",
        "svm3 = SVC(kernel='linear', C=10, gamma=0.1).fit(x, y)\n",
        "svm4 = SVC(kernel='sigmoid', C=10, gamma=0.1).fit(x, y)\n",
        "\n",
        "\n",
        "\n",
        "\n",
        "\n",
        "\n",
        "import matplotlib.pyplot as plt\n",
        "from mlxtend.plotting import plot_decision_regions\n",
        "import matplotlib.gridspec as gridspec\n",
        "import itertools\n",
        "gs = gridspec.GridSpec(2, 2)\n",
        "\n",
        "fig = plt.figure(figsize=(10,8))\n",
        "\n",
        "labels = ['RBF', 'Poly', 'Linear', 'Sigmoid']\n",
        "for svm, lab, grd in zip([svm, svm2, svm3, svm4],\n",
        "                         labels,\n",
        "                         itertools.product([0, 1], repeat=2)):\n",
        "\n",
        "    svm.fit(x, y)\n",
        "    ax = plt.subplot(gs[grd[0], grd[1]])\n",
        "    fig = plot_decision_regions(X=x, y=y, clf=svm, legend=2)\n",
        "    plt.title(lab)\n",
        "\n",
        "plt.show()"
      ],
      "execution_count": null,
      "outputs": [
        {
          "output_type": "display_data",
          "data": {
            "image/png": "[encoded data removed]",
            "text/plain": [
              "<Figure size 720x576 with 4 Axes>"
            ]
          },
          "metadata": {
            "tags": [],
            "needs_background": "light"
          }
        }
      ]
    },
    {
      "cell_type": "code",
      "metadata": {
        "id": "YuxISOIK0Dy0",
        "colab": {
          "base_uri": "https://localhost:8080/",
          "height": 499
        },
        "outputId": "eab1b053-14af-4e3d-9668-72330afbb47b"
      },
      "source": [
        "from sklearn.datasets import make_circles\n",
        "x, y = make_circles(n_samples=100, shuffle=False, noise=1/50, random_state=123, factor=0.6)\n",
        "\n",
        "from sklearn.datasets import make_moons\n",
        "from mlxtend.plotting import plot_decision_regions\n",
        "\n",
        "from sklearn.svm import SVC\n",
        "svm =  SVC(C=10, gamma=0.1).fit(x, y)\n",
        "svm2 = SVC(kernel='poly', C=10, gamma=0.1).fit(x, y)\n",
        "svm3 = SVC(kernel='linear', C=10, gamma=0.1).fit(x, y)\n",
        "svm4 = SVC(kernel='sigmoid', C=10, gamma=0.1).fit(x, y)\n",
        "\n",
        "\n",
        "\n",
        "\n",
        "\n",
        "\n",
        "import matplotlib.pyplot as plt\n",
        "from mlxtend.plotting import plot_decision_regions\n",
        "import matplotlib.gridspec as gridspec\n",
        "import itertools\n",
        "gs = gridspec.GridSpec(2, 2)\n",
        "\n",
        "fig = plt.figure(figsize=(10,8))\n",
        "\n",
        "labels = ['RBF', 'Poly', 'Linear', 'Sigmoid']\n",
        "for svm, lab, grd in zip([svm, svm2, svm3, svm4],\n",
        "                         labels,\n",
        "                         itertools.product([0, 1], repeat=2)):\n",
        "\n",
        "    svm.fit(x, y)\n",
        "    ax = plt.subplot(gs[grd[0], grd[1]])\n",
        "    fig = plot_decision_regions(X=x, y=y, clf=svm, legend=2)\n",
        "    plt.title(lab)\n",
        "\n",
        "plt.show()"
      ],
      "execution_count": null,
      "outputs": [
        {
          "output_type": "display_data",
          "data": {
            "image/png": "[encoded data removed]",
            "text/plain": [
              "<Figure size 720x576 with 4 Axes>"
            ]
          },
          "metadata": {
            "tags": [],
            "needs_background": "light"
          }
        }
      ]
    },
    {
      "cell_type": "code",
      "metadata": {
        "id": "i0Aea2vX0Dy1",
        "colab": {
          "base_uri": "https://localhost:8080/",
          "height": 499
        },
        "outputId": "ef55158c-0ab3-4b71-bb8f-d9b26ce5c50f"
      },
      "source": [
        "from sklearn.datasets import make_blobs\n",
        "x, y = make_blobs(n_samples=100, n_features=2, centers=None, cluster_std=2.0,\n",
        "           center_box=(-10.0, 10.0), shuffle=True, random_state=10)\n",
        "\n",
        "from sklearn.datasets import make_moons\n",
        "from mlxtend.plotting import plot_decision_regions\n",
        "from sklearn.svm import SVC\n",
        "svm =  SVC(C=10, gamma=0.1).fit(x, y)\n",
        "svm2 = SVC(kernel='poly', C=10, gamma=0.1).fit(x, y)\n",
        "svm3 = SVC(kernel='linear', C=10, gamma=0.1).fit(x, y)\n",
        "svm4 = SVC(kernel='sigmoid', C=10, gamma=0.1).fit(x, y)\n",
        "\n",
        "\n",
        "import matplotlib.pyplot as plt\n",
        "from mlxtend.plotting import plot_decision_regions\n",
        "import matplotlib.gridspec as gridspec\n",
        "import itertools\n",
        "gs = gridspec.GridSpec(2, 2)\n",
        "\n",
        "fig = plt.figure(figsize=(10,8))\n",
        "\n",
        "labels = ['RBF', 'Poly', 'Linear', 'Sigmoid']\n",
        "for svm, lab, grd in zip([svm, svm2, svm3, svm4],\n",
        "                         labels,\n",
        "                         itertools.product([0, 1], repeat=2)):\n",
        "\n",
        "    svm.fit(x, y)\n",
        "    ax = plt.subplot(gs[grd[0], grd[1]])\n",
        "    fig = plot_decision_regions(X=x, y=y, clf=svm, legend=2)\n",
        "    plt.title(lab)\n",
        "\n",
        "plt.show()\n",
        "\n"
      ],
      "execution_count": null,
      "outputs": [
        {
          "output_type": "display_data",
          "data": {
            "image/png": "[encoded data removed]",
            "text/plain": [
              "<Figure size 720x576 with 4 Axes>"
            ]
          },
          "metadata": {
            "tags": [],
            "needs_background": "light"
          }
        }
      ]
    }
  ]
}