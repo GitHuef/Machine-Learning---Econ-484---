{
  "cells": [
    {
      "cell_type": "code",
      "execution_count": null,
      "metadata": {
        "id": "TzFDXTTnWM9c"
      },
      "outputs": [],
      "source": [
        "import numpy as np\n",
        "np.random.seed(seed=484)\n",
        "import warnings\n",
        "warnings.filterwarnings('ignore')"
      ]
    },
    {
      "cell_type": "markdown",
      "metadata": {
        "id": "-JYG5qnnWM9f"
      },
      "source": [
        "# Midterm Exam"
      ]
    },
    {
      "cell_type": "markdown",
      "metadata": {
        "id": "-YiFzYF2WM9g"
      },
      "source": [
        "Exam is open book, open note, and open Google. You are not allowed outside\n",
        "help from another person, however. All work, including coding, must be yours alone. Remember to turn in both the written portion and this coding portion. The coding portion can be turned in by submitting a shared link to your Colab notebook. To complete this coding portion, make sure to save a copy of this notebook in your own Google drive, supply the python code in the empty cells below, and execute the notebook. To get full credit, the completed notebook should be able to run top to bottom, producing the results asked for in the prompts below."
      ]
    },
    {
      "cell_type": "markdown",
      "metadata": {
        "id": "MkCjCsX9WM9g"
      },
      "source": [
        "This portion of the exam will take you through the steps of the supervised machine learning process."
      ]
    },
    {
      "cell_type": "markdown",
      "metadata": {
        "id": "UamL0RdiWM9h"
      },
      "source": [
        "## 1. Figure out your question"
      ]
    },
    {
      "cell_type": "markdown",
      "metadata": {
        "id": "LQ7P55DJWM9h"
      },
      "source": [
        "The question you want to answer is: How does childbearing impact labor market outcomes for women? We can use machine learning to help answer this question by building a model that predicts how many children a woman gives birth to on the basis of her characteristics."
      ]
    },
    {
      "cell_type": "markdown",
      "metadata": {
        "id": "A6zoctZZWM9h"
      },
      "source": [
        "## 2. Obtain a labeled dataset"
      ]
    },
    {
      "cell_type": "markdown",
      "metadata": {
        "id": "SdgfGHzYWM9i"
      },
      "source": [
        "Import the python library that is good for manipulating datasets:"
      ]
    },
    {
      "cell_type": "code",
      "execution_count": null,
      "metadata": {
        "colab": {
          "base_uri": "https://localhost:8080/"
        },
        "id": "y3wmGngUWM9i",
        "outputId": "587ffe52-8434-43d7-cf5d-1756e77dd5c4"
      },
      "outputs": [
        {
          "name": "stdout",
          "output_type": "stream",
          "text": [
            "Drive already mounted at /content/drive; to attempt to forcibly remount, call drive.mount(\"/content/drive\", force_remount=True).\n"
          ]
        }
      ],
      "source": [
        "from google.colab import drive\n",
        "drive.mount('/content/drive')"
      ]
    },
    {
      "cell_type": "code",
      "execution_count": null,
      "metadata": {
        "id": "nJoDBEulXf95"
      },
      "outputs": [],
      "source": [
        "import pandas as pd"
      ]
    },
    {
      "cell_type": "markdown",
      "metadata": {
        "id": "AwWVnmc_WM9k"
      },
      "source": [
        "Accompanying the exam materials are a spreadsheet of female survey respondents, 'femalelaborsupply.csv' and a text file, 'femalelaborsupplydefs.txt' that explains each variable in the spreadsheet. Read in the data in the spreadsheet 'femalelaborsupply.csv', print out the first few rows of data with the variable names, and print out the number of observations and variables in the dataset:"
      ]
    },
    {
      "cell_type": "code",
      "execution_count": null,
      "metadata": {
        "colab": {
          "base_uri": "https://localhost:8080/",
          "height": 382
        },
        "id": "Fer02-GdWM9k",
        "outputId": "90dfdb8a-f045-4fef-df96-82ca10975ec8"
      },
      "outputs": [
        {
          "name": "stdout",
          "output_type": "stream",
          "text": [
            "   asex  aage  aqtrbrth  ageqk  ...   nonmomil  qobm  const  msample\n",
            "0     0     0         0     36  ...  10.422200     2      1        1\n",
            "1     0     0         0     23  ...   8.122422     3      1        0\n",
            "2     0     0         0     44  ...  10.103316     4      1        1\n",
            "3     0     0         0     24  ...  10.330663     3      1        1\n",
            "4     0     0         0     28  ...  10.702120     1      1        1\n",
            "\n",
            "[5 rows x 49 columns]\n",
            "Shape: (394840, 49). The number of observations is 394840. The number of features is 49.\n"
          ]
        },
        {
          "data": {
            "text/html": [
              "<div>\n",
              "<style scoped>\n",
              "    .dataframe tbody tr th:only-of-type {\n",
              "        vertical-align: middle;\n",
              "    }\n",
              "\n",
              "    .dataframe tbody tr th {\n",
              "        vertical-align: top;\n",
              "    }\n",
              "\n",
              "    .dataframe thead th {\n",
              "        text-align: right;\n",
              "    }\n",
              "</style>\n",
              "<table border=\"1\" class=\"dataframe\">\n",
              "  <thead>\n",
              "    <tr style=\"text-align: right;\">\n",
              "      <th></th>\n",
              "      <th>asex</th>\n",
              "      <th>aage</th>\n",
              "      <th>aqtrbrth</th>\n",
              "      <th>ageqk</th>\n",
              "      <th>asex2nd</th>\n",
              "      <th>aage2nd</th>\n",
              "      <th>ageq2nd</th>\n",
              "      <th>ageq3rd</th>\n",
              "      <th>kidcount</th>\n",
              "      <th>agem</th>\n",
              "      <th>marital</th>\n",
              "      <th>yobm</th>\n",
              "      <th>multi2nd</th>\n",
              "      <th>boy1st</th>\n",
              "      <th>boy2nd</th>\n",
              "      <th>boys2</th>\n",
              "      <th>girls2</th>\n",
              "      <th>samesex</th>\n",
              "      <th>morekids</th>\n",
              "      <th>blackm</th>\n",
              "      <th>hispm</th>\n",
              "      <th>othracem</th>\n",
              "      <th>blackd</th>\n",
              "      <th>hispd</th>\n",
              "      <th>othraced</th>\n",
              "      <th>educm</th>\n",
              "      <th>hsgrad</th>\n",
              "      <th>hsormore</th>\n",
              "      <th>moreths</th>\n",
              "      <th>agem1</th>\n",
              "      <th>aged1</th>\n",
              "      <th>ageqm</th>\n",
              "      <th>agefstm</th>\n",
              "      <th>agefstd</th>\n",
              "      <th>weeksm1</th>\n",
              "      <th>weeksd1</th>\n",
              "      <th>workedm</th>\n",
              "      <th>workedd</th>\n",
              "      <th>hourswd</th>\n",
              "      <th>hourswm</th>\n",
              "      <th>incomed</th>\n",
              "      <th>incomem</th>\n",
              "      <th>faminc1</th>\n",
              "      <th>famincl</th>\n",
              "      <th>nonmomi</th>\n",
              "      <th>nonmomil</th>\n",
              "      <th>qobm</th>\n",
              "      <th>const</th>\n",
              "      <th>msample</th>\n",
              "    </tr>\n",
              "  </thead>\n",
              "  <tbody>\n",
              "    <tr>\n",
              "      <th>0</th>\n",
              "      <td>0</td>\n",
              "      <td>0</td>\n",
              "      <td>0</td>\n",
              "      <td>36</td>\n",
              "      <td>0</td>\n",
              "      <td>0</td>\n",
              "      <td>30</td>\n",
              "      <td>NaN</td>\n",
              "      <td>2</td>\n",
              "      <td>27</td>\n",
              "      <td>0</td>\n",
              "      <td>52</td>\n",
              "      <td>0</td>\n",
              "      <td>1</td>\n",
              "      <td>0</td>\n",
              "      <td>0</td>\n",
              "      <td>0</td>\n",
              "      <td>0</td>\n",
              "      <td>0</td>\n",
              "      <td>0</td>\n",
              "      <td>0</td>\n",
              "      <td>0</td>\n",
              "      <td>0</td>\n",
              "      <td>0</td>\n",
              "      <td>0</td>\n",
              "      <td>12</td>\n",
              "      <td>1</td>\n",
              "      <td>1</td>\n",
              "      <td>0</td>\n",
              "      <td>27</td>\n",
              "      <td>35.0</td>\n",
              "      <td>109</td>\n",
              "      <td>18</td>\n",
              "      <td>26.0</td>\n",
              "      <td>0</td>\n",
              "      <td>16.0</td>\n",
              "      <td>0</td>\n",
              "      <td>1</td>\n",
              "      <td>48.0</td>\n",
              "      <td>0</td>\n",
              "      <td>33597.273</td>\n",
              "      <td>0.000</td>\n",
              "      <td>33597.273</td>\n",
              "      <td>10.422200</td>\n",
              "      <td>33597.2730</td>\n",
              "      <td>10.422200</td>\n",
              "      <td>2</td>\n",
              "      <td>1</td>\n",
              "      <td>1</td>\n",
              "    </tr>\n",
              "    <tr>\n",
              "      <th>1</th>\n",
              "      <td>0</td>\n",
              "      <td>0</td>\n",
              "      <td>0</td>\n",
              "      <td>23</td>\n",
              "      <td>0</td>\n",
              "      <td>0</td>\n",
              "      <td>9</td>\n",
              "      <td>NaN</td>\n",
              "      <td>2</td>\n",
              "      <td>25</td>\n",
              "      <td>2</td>\n",
              "      <td>54</td>\n",
              "      <td>0</td>\n",
              "      <td>1</td>\n",
              "      <td>0</td>\n",
              "      <td>0</td>\n",
              "      <td>0</td>\n",
              "      <td>0</td>\n",
              "      <td>0</td>\n",
              "      <td>0</td>\n",
              "      <td>0</td>\n",
              "      <td>0</td>\n",
              "      <td>0</td>\n",
              "      <td>0</td>\n",
              "      <td>1</td>\n",
              "      <td>12</td>\n",
              "      <td>1</td>\n",
              "      <td>1</td>\n",
              "      <td>0</td>\n",
              "      <td>25</td>\n",
              "      <td>NaN</td>\n",
              "      <td>100</td>\n",
              "      <td>19</td>\n",
              "      <td>NaN</td>\n",
              "      <td>52</td>\n",
              "      <td>NaN</td>\n",
              "      <td>1</td>\n",
              "      <td>1</td>\n",
              "      <td>NaN</td>\n",
              "      <td>38</td>\n",
              "      <td>NaN</td>\n",
              "      <td>18273.307</td>\n",
              "      <td>21642.479</td>\n",
              "      <td>9.982413</td>\n",
              "      <td>3369.1726</td>\n",
              "      <td>8.122422</td>\n",
              "      <td>3</td>\n",
              "      <td>1</td>\n",
              "      <td>0</td>\n",
              "    </tr>\n",
              "    <tr>\n",
              "      <th>2</th>\n",
              "      <td>0</td>\n",
              "      <td>0</td>\n",
              "      <td>0</td>\n",
              "      <td>44</td>\n",
              "      <td>0</td>\n",
              "      <td>0</td>\n",
              "      <td>22</td>\n",
              "      <td>NaN</td>\n",
              "      <td>2</td>\n",
              "      <td>30</td>\n",
              "      <td>0</td>\n",
              "      <td>49</td>\n",
              "      <td>0</td>\n",
              "      <td>0</td>\n",
              "      <td>1</td>\n",
              "      <td>0</td>\n",
              "      <td>0</td>\n",
              "      <td>0</td>\n",
              "      <td>0</td>\n",
              "      <td>0</td>\n",
              "      <td>0</td>\n",
              "      <td>0</td>\n",
              "      <td>0</td>\n",
              "      <td>0</td>\n",
              "      <td>0</td>\n",
              "      <td>7</td>\n",
              "      <td>0</td>\n",
              "      <td>0</td>\n",
              "      <td>0</td>\n",
              "      <td>30</td>\n",
              "      <td>28.0</td>\n",
              "      <td>119</td>\n",
              "      <td>18</td>\n",
              "      <td>17.0</td>\n",
              "      <td>30</td>\n",
              "      <td>32.0</td>\n",
              "      <td>1</td>\n",
              "      <td>1</td>\n",
              "      <td>40.0</td>\n",
              "      <td>40</td>\n",
              "      <td>20834.297</td>\n",
              "      <td>18903.059</td>\n",
              "      <td>43326.941</td>\n",
              "      <td>10.676530</td>\n",
              "      <td>24423.8830</td>\n",
              "      <td>10.103316</td>\n",
              "      <td>4</td>\n",
              "      <td>1</td>\n",
              "      <td>1</td>\n",
              "    </tr>\n",
              "    <tr>\n",
              "      <th>3</th>\n",
              "      <td>0</td>\n",
              "      <td>0</td>\n",
              "      <td>0</td>\n",
              "      <td>24</td>\n",
              "      <td>0</td>\n",
              "      <td>0</td>\n",
              "      <td>12</td>\n",
              "      <td>NaN</td>\n",
              "      <td>2</td>\n",
              "      <td>27</td>\n",
              "      <td>0</td>\n",
              "      <td>52</td>\n",
              "      <td>0</td>\n",
              "      <td>1</td>\n",
              "      <td>0</td>\n",
              "      <td>0</td>\n",
              "      <td>0</td>\n",
              "      <td>0</td>\n",
              "      <td>0</td>\n",
              "      <td>0</td>\n",
              "      <td>0</td>\n",
              "      <td>0</td>\n",
              "      <td>0</td>\n",
              "      <td>0</td>\n",
              "      <td>0</td>\n",
              "      <td>12</td>\n",
              "      <td>1</td>\n",
              "      <td>1</td>\n",
              "      <td>0</td>\n",
              "      <td>27</td>\n",
              "      <td>30.0</td>\n",
              "      <td>108</td>\n",
              "      <td>21</td>\n",
              "      <td>24.0</td>\n",
              "      <td>0</td>\n",
              "      <td>52.0</td>\n",
              "      <td>0</td>\n",
              "      <td>1</td>\n",
              "      <td>40.0</td>\n",
              "      <td>0</td>\n",
              "      <td>30658.430</td>\n",
              "      <td>0.000</td>\n",
              "      <td>30658.430</td>\n",
              "      <td>10.330663</td>\n",
              "      <td>30658.4300</td>\n",
              "      <td>10.330663</td>\n",
              "      <td>3</td>\n",
              "      <td>1</td>\n",
              "      <td>1</td>\n",
              "    </tr>\n",
              "    <tr>\n",
              "      <th>4</th>\n",
              "      <td>0</td>\n",
              "      <td>0</td>\n",
              "      <td>0</td>\n",
              "      <td>28</td>\n",
              "      <td>0</td>\n",
              "      <td>0</td>\n",
              "      <td>14</td>\n",
              "      <td>NaN</td>\n",
              "      <td>2</td>\n",
              "      <td>35</td>\n",
              "      <td>0</td>\n",
              "      <td>45</td>\n",
              "      <td>0</td>\n",
              "      <td>1</td>\n",
              "      <td>0</td>\n",
              "      <td>0</td>\n",
              "      <td>0</td>\n",
              "      <td>0</td>\n",
              "      <td>0</td>\n",
              "      <td>1</td>\n",
              "      <td>0</td>\n",
              "      <td>0</td>\n",
              "      <td>1</td>\n",
              "      <td>0</td>\n",
              "      <td>0</td>\n",
              "      <td>14</td>\n",
              "      <td>0</td>\n",
              "      <td>1</td>\n",
              "      <td>1</td>\n",
              "      <td>35</td>\n",
              "      <td>36.0</td>\n",
              "      <td>138</td>\n",
              "      <td>27</td>\n",
              "      <td>29.0</td>\n",
              "      <td>0</td>\n",
              "      <td>52.0</td>\n",
              "      <td>0</td>\n",
              "      <td>1</td>\n",
              "      <td>40.0</td>\n",
              "      <td>0</td>\n",
              "      <td>44450.000</td>\n",
              "      <td>0.000</td>\n",
              "      <td>44450.000</td>\n",
              "      <td>10.702120</td>\n",
              "      <td>44450.0000</td>\n",
              "      <td>10.702120</td>\n",
              "      <td>1</td>\n",
              "      <td>1</td>\n",
              "      <td>1</td>\n",
              "    </tr>\n",
              "  </tbody>\n",
              "</table>\n",
              "</div>"
            ],
            "text/plain": [
              "   asex  aage  aqtrbrth  ageqk  ...   nonmomil  qobm  const  msample\n",
              "0     0     0         0     36  ...  10.422200     2      1        1\n",
              "1     0     0         0     23  ...   8.122422     3      1        0\n",
              "2     0     0         0     44  ...  10.103316     4      1        1\n",
              "3     0     0         0     24  ...  10.330663     3      1        1\n",
              "4     0     0         0     28  ...  10.702120     1      1        1\n",
              "\n",
              "[5 rows x 49 columns]"
            ]
          },
          "execution_count": 18,
          "metadata": {
            "tags": []
          },
          "output_type": "execute_result"
        }
      ],
      "source": [
        "femlaborsupply=pd.read_csv('/content/drive/MyDrive/Econ 484/femalelaborsupply.csv')\n",
        "print(femlaborsupply.head())\n",
        "print(\"Shape: {}. The number of observations is 394840. The number of features is 49.\".format(str(femlaborsupply.shape)))\n",
        "# or\n",
        "femlaborsupply.head(5)"
      ]
    },
    {
      "cell_type": "markdown",
      "metadata": {
        "id": "SQnjWhASWM9m"
      },
      "source": [
        "Define a label (outcome) vector, $y_1$, to be how many children the woman has, another outcome vector, $y_2$ to be an indicator for having three or more children, and define a feature (regressor) matrix, $X$, to contain the mother's age, marital status, race, ethnicity, and education:"
      ]
    },
    {
      "cell_type": "code",
      "execution_count": null,
      "metadata": {
        "id": "GMpxIqiHWM9m"
      },
      "outputs": [],
      "source": [
        "y2 = femlaborsupply['kidcount'] # the number of kids woman has in household\n",
        "y1 = femlaborsupply['morekids'] # 3 or more kids that a woman has in a household\n",
        "X = femlaborsupply.loc[:,['agem','marital','blackm','hispm','othracem','educm']]\n",
        "\n"
      ]
    },
    {
      "cell_type": "markdown",
      "metadata": {
        "id": "4OEvMdp-Xj6m"
      },
      "source": [
        "\"Pre-process\" your features, $X$, by standardizing them to have zero mean and unit variance. Hint: you may import a useful package to do this."
      ]
    },
    {
      "cell_type": "code",
      "execution_count": null,
      "metadata": {
        "colab": {
          "base_uri": "https://localhost:8080/"
        },
        "id": "rNiZolJcXv6C",
        "outputId": "87649249-513e-493d-f24f-17f6ece7c015"
      },
      "outputs": [
        {
          "data": {
            "text/plain": [
              "(394840, 6)"
            ]
          },
          "execution_count": 20,
          "metadata": {
            "tags": []
          },
          "output_type": "execute_result"
        }
      ],
      "source": [
        "from sklearn.preprocessing import StandardScaler\n",
        "scaler = StandardScaler()\n",
        "scaler.fit(X)\n",
        "X_scaled = scaler.transform(X)\n",
        "X_scaled.shape"
      ]
    },
    {
      "cell_type": "code",
      "execution_count": null,
      "metadata": {
        "id": "8qHfKL_j0QGV"
      },
      "outputs": [],
      "source": [
        ""
      ]
    },
    {
      "cell_type": "markdown",
      "metadata": {
        "id": "cSuEbRMKWM9o"
      },
      "source": [
        "## 3. Divide into training and set sets"
      ]
    },
    {
      "cell_type": "markdown",
      "metadata": {
        "id": "mi-dbFQyWM9o"
      },
      "source": [
        "Import the python library that is good for randomly splitting datasets into training and test sets:"
      ]
    },
    {
      "cell_type": "code",
      "execution_count": null,
      "metadata": {
        "id": "cpTtWuWsWM9p"
      },
      "outputs": [],
      "source": [
        "from sklearn.model_selection import train_test_split "
      ]
    },
    {
      "cell_type": "markdown",
      "metadata": {
        "id": "Qw5tGzFUWM9r"
      },
      "source": [
        "Now make a training and test feature matrix and a training and test label vectors:"
      ]
    },
    {
      "cell_type": "code",
      "execution_count": null,
      "metadata": {
        "id": "im4z_YPAWM9r"
      },
      "outputs": [],
      "source": [
        "\n",
        "X_train, X_test, y_train, y_test = train_test_split(X,y1,random_state=42)"
      ]
    },
    {
      "cell_type": "code",
      "execution_count": null,
      "metadata": {
        "id": "sjvW7Hot0al7"
      },
      "outputs": [],
      "source": [
        "from sklearn.ensemble import RandomForestClassifier\n",
        "rf = RandomForestClassifier().fit(X_train,y_train)"
      ]
    },
    {
      "cell_type": "code",
      "execution_count": null,
      "metadata": {
        "colab": {
          "background_save": true
        },
        "id": "-orjFD_f0r5T",
        "outputId": "6656c1b7-7cd5-48e6-b95e-4c388461ff0c"
      },
      "outputs": [
        {
          "name": "stdout",
          "output_type": "stream",
          "text": [
            "{'max_depth': 110, 'min_samples_leaf': 10, 'n_estimators': 100}\n",
            "0.3555204987710009\n"
          ]
        }
      ],
      "source": [
        "from sklearn.model_selection import GridSearchCV\n",
        "param_grid = {\"max_depth\": [80,90,110], \"min_samples_leaf\": [0,1,2,5,8,10], \"n_estimators\": [100,200,300]}\n",
        "rf_gs = GridSearchCV(RandomForestClassifier(), param_grid, scoring=\"f1\", n_jobs=-1)\n",
        "rf_gs.fit(X_train,y_train)\n",
        "print(rf_gs.best_params_, rf_gs.best_score_, sep='\\n')"
      ]
    },
    {
      "cell_type": "code",
      "execution_count": null,
      "metadata": {
        "id": "n1WWpja107JZ"
      },
      "outputs": [],
      "source": [
        "rf = RandomForestClassifier(max_depth = 80, min_samples_leaf = 1, n_estimators = 200).fit(X_train,y_train)"
      ]
    },
    {
      "cell_type": "code",
      "execution_count": null,
      "metadata": {
        "id": "qIScJ1et1S4m"
      },
      "outputs": [],
      "source": [
        "from sklearn import metrics\n",
        "y_pred = rf.predict(X_test)\n",
        "print(\"Accuracy: \", metrics.accuracy_score(y_test,y_pred))\n",
        "print(\"Auc_score: \", metrics.roc_auc_score(y_test,y_pred))\n",
        "print(rf.score(X_test,y_test))"
      ]
    },
    {
      "cell_type": "markdown",
      "metadata": {
        "id": "FzVMOGgrWM9t"
      },
      "source": [
        "## 4. Pick an appropriate method"
      ]
    },
    {
      "cell_type": "markdown",
      "metadata": {
        "id": "VbrMr8KFWM9t"
      },
      "source": [
        "Choose a method appropriate for classification and import its library:"
      ]
    },
    {
      "cell_type": "code",
      "execution_count": null,
      "metadata": {
        "id": "g0rbHexoWM9u"
      },
      "outputs": [],
      "source": [
        "from sklearn.linear_model import Lasso\n"
      ]
    },
    {
      "cell_type": "markdown",
      "metadata": {
        "id": "tI0muOgJWM9y"
      },
      "source": [
        "## 5 and 6. Choose regularization parameters via cross-validation on the training set and fit model on the whole training set using the cross-validated parameters\n",
        "\n",
        "The outcome you should use in this part is $y_2$, the indicator for having at least three kids"
      ]
    },
    {
      "cell_type": "markdown",
      "metadata": {
        "id": "JT5ASK5pWM9y"
      },
      "source": [
        "Search over a grid of values of the regularization parameters for the parameters that perform the best on the left-out folds:"
      ]
    },
    {
      "cell_type": "code",
      "execution_count": null,
      "metadata": {
        "id": "L28LGg-Fz-2n"
      },
      "outputs": [],
      "source": [
        "lasso = Lasso().fit(X_train,y_train)\n",
        "param_grid = {\"alpha\": [.0001, .0005,.001, .002, .0022, .003, .004, .006, .008, .01, .012, .014, .016 ,.018, .02 ], \"max_iter\": [100000]}\n",
        "lazzo = GridSearchCV(lasso,param_grid,cv=5,return_train_score=True)\n",
        "lazzo.fit(X_train,y_train)\n",
        "print(lazzo.best_params_, lazzo.best_score_, sep='\\n')\n",
        "lasso = Lasso(alpha=0.0022, max_iter=100000).fit(X_train,y_train)\n",
        "y_pred = lasso.predict(X_test)\n"
      ]
    },
    {
      "cell_type": "markdown",
      "metadata": {
        "id": "0Qg1nZnpWM92"
      },
      "source": [
        "## 7. Evaluate model by applying it to test set"
      ]
    },
    {
      "cell_type": "markdown",
      "metadata": {
        "id": "OA7l42zLWM92"
      },
      "source": [
        "Compute and print out the \"score\" of the model applied to the test set:"
      ]
    },
    {
      "cell_type": "code",
      "execution_count": null,
      "metadata": {
        "id": "I-LocbNpWM92"
      },
      "outputs": [],
      "source": [
        "print('Lasso score on test set: {:.4f}'.format(lasso.score(X_test,y_test)))\n",
        "print(\"the lasso score for y2 is\", lasso.score(X,y2))\n",
        "#"
      ]
    },
    {
      "cell_type": "markdown",
      "metadata": {
        "id": "U2fXVbgRWM94"
      },
      "source": [
        "## 8. Repeat 4-7 for $y_1$\n",
        "using a method appropriate for regression-style prediction to predict number of children, not the probability of having at least three children"
      ]
    },
    {
      "cell_type": "markdown",
      "metadata": {
        "id": "-yHi6UvEWM95"
      },
      "source": [
        "Import the method's library, do cross validation to find tuning parameters, fit the model on the training data using the cross-validated tuning parameters, and compute (and report) the model's score on the test set:"
      ]
    },
    {
      "cell_type": "code",
      "execution_count": null,
      "metadata": {
        "id": "sQbfbPeqWM95"
      },
      "outputs": [],
      "source": [
        "# step 4 The method chosen is ridge regression.\n",
        "\n",
        "from sklearn.linear_model import RidgeCV\n",
        "from sklearn.linear_model import Ridge"
      ]
    },
    {
      "cell_type": "code",
      "execution_count": null,
      "metadata": {
        "id": "Fk4sQCe-vTZL"
      },
      "outputs": [],
      "source": [
        "# step 5 the cross validation process.\n",
        "ridgecv= RidgeCV(cv=5).fit(X_train, np.ravel(y_train))\n"
      ]
    },
    {
      "cell_type": "code",
      "execution_count": null,
      "metadata": {
        "id": "pvVZeMnyvd4t"
      },
      "outputs": [],
      "source": [
        "# step 6 fitting the model on the training set\n",
        "ridgecvalpha =Ridge(alpha = ridgecv.alpha_,max_iter=100000).fit(X_train,y_train)"
      ]
    },
    {
      "cell_type": "code",
      "execution_count": null,
      "metadata": {
        "id": "w2qRh4KUvmPN"
      },
      "outputs": [],
      "source": [
        "# step 7 fittin the model on the test set\n",
        "print('Ridge score on test set: {:.4f}'.format(ridgecvalpha.score(X_test,y_test)))\n",
        "print(\"The ridge regression score for y1 is\" ,ridgecv.score(X,y1))"
      ]
    },
    {
      "cell_type": "markdown",
      "metadata": {
        "id": "rhyyawznWM96"
      },
      "source": [
        "## 9. Apply the prediction  models to new observations for which we have no labels"
      ]
    },
    {
      "cell_type": "markdown",
      "metadata": {
        "id": "wzPB_fH7WM99"
      },
      "source": [
        "The spreadsheet 'newfemales.csv' contains information on two new females, with identical characteristics, except one is a high school graduate, and the other has a bachelor's degree."
      ]
    },
    {
      "cell_type": "markdown",
      "metadata": {
        "id": "fvZIvvAbWM99"
      },
      "source": [
        "Read in the new observations' information and apply the models to predict the probability of each applicant having at least three kids, and the predicted number of kids each applicant will have, and print out the predictions. Hint: don't forget to apply the same pre-processing steps to the new observations as you did to your training and test observations. This means standardizing the new observations using the means and variances of your labeled dataset, not the means and variances of these two new observations."
      ]
    },
    {
      "cell_type": "code",
      "execution_count": null,
      "metadata": {
        "id": "6EV3sNlRWM99"
      },
      "outputs": [],
      "source": [
        "newfemz = pd.read_csv(\"/content/drive/MyDrive/Econ 484/newfemales.csv\")\n"
      ]
    },
    {
      "cell_type": "code",
      "execution_count": null,
      "metadata": {
        "id": "wr0ENoNr4BII"
      },
      "outputs": [],
      "source": [
        "from sklearn.preprocessing import StandardScaler\n",
        "scaler = StandardScaler()\n",
        "scaler.fit(X)\n",
        "X_scaled = scaler.transform(X)\n",
        "X_scaled.shape"
      ]
    },
    {
      "cell_type": "code",
      "execution_count": null,
      "metadata": {
        "id": "4cDYCgNX4AiI"
      },
      "outputs": [],
      "source": [
        "from sklearn.model_selection import train_test_split\n",
        "\n",
        "X_train, X_test, y_train, y_test = train_test_split(X,y,random_state=50)"
      ]
    },
    {
      "cell_type": "code",
      "execution_count": null,
      "metadata": {
        "id": "rL6aRdPu5BBr"
      },
      "outputs": [],
      "source": [
        "X_train, X_test, y_train, y_test = train_test_split(X,y,random_state=50)"
      ]
    },
    {
      "cell_type": "code",
      "execution_count": null,
      "metadata": {
        "id": "-qJSZ1AU5DGd"
      },
      "outputs": [],
      "source": [
        "from sklearn.linear_model import RidgeCV\n",
        "from sklearn.linear_model import Ridge"
      ]
    },
    {
      "cell_type": "code",
      "execution_count": null,
      "metadata": {
        "id": "MEAS8GhI5NUm"
      },
      "outputs": [],
      "source": [
        "ridgecv= RidgeCV(cv=5).fit(X_train, np.ravel(y_train))\n"
      ]
    },
    {
      "cell_type": "code",
      "execution_count": null,
      "metadata": {
        "id": "vmReGBrw5NJN"
      },
      "outputs": [],
      "source": [
        "femzscaled = scaler.transform(newfemz)\n",
        "y_pred = ridgecv.predict(femzscaled)\n",
        "print(y_pred)\n",
        "print(y_pred)"
      ]
    },
    {
      "cell_type": "markdown",
      "metadata": {
        "id": "vRwpvdcv5C4D"
      },
      "source": [
        ""
      ]
    }
  ],
  "metadata": {
    "colab": {
      "collapsed_sections": [],
      "name": "Midterm Practice Exam",
      "provenance": [],
      "toc_visible": true
    },
    "kernelspec": {
      "display_name": "Python 3",
      "name": "python3"
    }
  },
  "nbformat": 4,
  "nbformat_minor": 0
}